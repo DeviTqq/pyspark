{
 "cells": [
  {
   "cell_type": "code",
   "execution_count": 1,
   "id": "b930b555-981d-4d0c-8fac-cac69232d4be",
   "metadata": {},
   "outputs": [],
   "source": [
    "# Импорт необходимых библиотек\n",
    "import os\n",
    "import sys\n",
    "import pandas as pd\n",
    "from pandas import DataFrame\n",
    "import numpy as np\n",
    "import matplotlib.pyplot as plt\n",
    "import matplotlib.ticker as mtick\n",
    "import matplotlib\n",
    "from mpl_toolkits.mplot3d import Axes3D\n",
    "import math\n",
    "from IPython.core.interactiveshell import InteractiveShell\n",
    "from datetime import *\n",
    "import statistics as stats\n",
    "# Это позволяет автоматически распечатывать элементы без необходимости использовать 'print'.\n",
    "InteractiveShell.ast_node_interactivity = \"all\" \n",
    "%matplotlib inline"
   ]
  },
  {
   "cell_type": "code",
   "execution_count": 2,
   "id": "3a4b0ba1-e051-4de1-92ea-a544a6df4a70",
   "metadata": {
    "editable": true,
    "slideshow": {
     "slide_type": ""
    },
    "tags": []
   },
   "outputs": [],
   "source": [
    "# Импорт фреймворка PySpark\n",
    "import pyspark\n",
    "from pyspark.rdd import RDD\n",
    "from pyspark.sql import Row\n",
    "from pyspark.sql import DataFrame\n",
    "from pyspark.sql import SparkSession\n",
    "from pyspark.sql import SQLContext\n",
    "from pyspark.sql import functions\n",
    "from pyspark.sql.functions import lit, desc, col, size, array_contains\\\n",
    ", isnan, udf, hour, array_min, array_max, countDistinct\n",
    "from pyspark.sql.types import *\n",
    "\n",
    "spark = SparkSession.builder.master(\"local[*]\").getOrCreate()\n"
   ]
  },
  {
   "cell_type": "code",
   "execution_count": 3,
   "id": "de58a8c5-801c-4d33-88e1-10751daff7f5",
   "metadata": {},
   "outputs": [],
   "source": [
    "# Создание схемы\n",
    "from pyspark.sql.types import StructType, StructField, IntegerType, StringType, DateType, BooleanType, FloatType\n",
    "schema = StructType(fields=[\n",
    "    StructField(\"legId\", StringType ()), \n",
    "    StructField(\"searchDate\", DateType()),\n",
    "    StructField(\"flightDate\", DateType()),\n",
    "    StructField(\"startingAirport\", StringType()),\n",
    "    StructField(\"destinationAirport\", StringType()),\n",
    "    StructField(\"fareBasisCode\", StringType()),\n",
    "    StructField(\"travelDuration\", StringType()),\n",
    "    StructField(\"elapsedDays\", IntegerType()),\n",
    "    StructField(\"isBasicEconomy\", BooleanType()),\n",
    "    StructField(\"isRefundable\", BooleanType()),\n",
    "    StructField(\"isNonStop\", BooleanType()),\n",
    "    StructField(\"baseFare\", FloatType()),\n",
    "    StructField(\"totalFare\", FloatType()),\n",
    "    StructField(\"seatsRemaining\", IntegerType()),\n",
    "    StructField(\"totalTravelDistance\", FloatType()),\n",
    "    StructField(\"segmentsDepartureTimeEpochSeconds\", StringType()),\n",
    "    StructField(\"segmentsDepartureTimeRaw\", StringType()),\n",
    "    StructField(\"segmentsArrivalTimeEpochSeconds\", StringType()),\n",
    "    StructField(\"segmentsArrivalTimeRaw\", StringType()),\n",
    "    StructField(\"segmentsArrivalAirportCode\", StringType()),\n",
    "    StructField(\"segmentsDepartureAirportCode\", StringType()),\n",
    "    StructField(\"segmentsAirlineName\", StringType()),\n",
    "    StructField(\"segmentsAirlineCode\", StringType()),\n",
    "    StructField(\"segmentsEquipmentDescription\", StringType()),\n",
    "    StructField(\"segmentsDurationInSeconds\", StringType()),\n",
    "    StructField(\"segmentsDistance\", StringType()),\n",
    "    StructField(\"segmentsCabinCode\", StringType()),\n",
    "\n",
    "])"
   ]
  },
  {
   "cell_type": "code",
   "execution_count": 4,
   "id": "34947e62-fa64-4179-ae69-d058fa461f1d",
   "metadata": {},
   "outputs": [
    {
     "name": "stdout",
     "output_type": "stream",
     "text": [
      "Data frame type: <class 'pyspark.sql.dataframe.DataFrame'>\n"
     ]
    }
   ],
   "source": [
    "# Укажем директорию к файлу с данными и инициалализируем spark\n",
    "filename_data = 'data/itineraries.csv'\n",
    "# Загрузка датасета в датафрейм, \n",
    "df = spark.read.csv(filename_data, header=True, schema=schema, mode=\"DROPMALFORMED\")\n",
    "print('Data frame type: ' + str(type(df)))"
   ]
  },
  {
   "cell_type": "markdown",
   "id": "c542de32-780c-4627-b374-0baf86f7fc85",
   "metadata": {},
   "source": [
    "# I. Разведочный анализ данных с помощью PySpark <a class=\"anchor\" id=\"2\"></a>\n",
    "\n",
    "\n",
    "## Схема, столбцы и типы данных набора данных:\n",
    "   *В наборе данных столбцы состоят из строковых, числовых, булевых типов данных и дата."
   ]
  },
  {
   "cell_type": "code",
   "execution_count": 5,
   "id": "cce2b4e4-e660-4801-b80f-d0ca6ee21a97",
   "metadata": {},
   "outputs": [
    {
     "data": {
      "text/plain": [
       "'Data overview'"
      ]
     },
     "execution_count": 5,
     "metadata": {},
     "output_type": "execute_result"
    },
    {
     "name": "stdout",
     "output_type": "stream",
     "text": [
      "root\n",
      " |-- legId: string (nullable = true)\n",
      " |-- searchDate: date (nullable = true)\n",
      " |-- flightDate: date (nullable = true)\n",
      " |-- startingAirport: string (nullable = true)\n",
      " |-- destinationAirport: string (nullable = true)\n",
      " |-- fareBasisCode: string (nullable = true)\n",
      " |-- travelDuration: string (nullable = true)\n",
      " |-- elapsedDays: integer (nullable = true)\n",
      " |-- isBasicEconomy: boolean (nullable = true)\n",
      " |-- isRefundable: boolean (nullable = true)\n",
      " |-- isNonStop: boolean (nullable = true)\n",
      " |-- baseFare: float (nullable = true)\n",
      " |-- totalFare: float (nullable = true)\n",
      " |-- seatsRemaining: integer (nullable = true)\n",
      " |-- totalTravelDistance: float (nullable = true)\n",
      " |-- segmentsDepartureTimeEpochSeconds: string (nullable = true)\n",
      " |-- segmentsDepartureTimeRaw: string (nullable = true)\n",
      " |-- segmentsArrivalTimeEpochSeconds: string (nullable = true)\n",
      " |-- segmentsArrivalTimeRaw: string (nullable = true)\n",
      " |-- segmentsArrivalAirportCode: string (nullable = true)\n",
      " |-- segmentsDepartureAirportCode: string (nullable = true)\n",
      " |-- segmentsAirlineName: string (nullable = true)\n",
      " |-- segmentsAirlineCode: string (nullable = true)\n",
      " |-- segmentsEquipmentDescription: string (nullable = true)\n",
      " |-- segmentsDurationInSeconds: string (nullable = true)\n",
      " |-- segmentsDistance: string (nullable = true)\n",
      " |-- segmentsCabinCode: string (nullable = true)\n",
      "\n"
     ]
    },
    {
     "data": {
      "text/plain": [
       "'Columns overview'"
      ]
     },
     "execution_count": 5,
     "metadata": {},
     "output_type": "execute_result"
    },
    {
     "data": {
      "text/html": [
       "<div>\n",
       "<style scoped>\n",
       "    .dataframe tbody tr th:only-of-type {\n",
       "        vertical-align: middle;\n",
       "    }\n",
       "\n",
       "    .dataframe tbody tr th {\n",
       "        vertical-align: top;\n",
       "    }\n",
       "\n",
       "    .dataframe thead th {\n",
       "        text-align: right;\n",
       "    }\n",
       "</style>\n",
       "<table border=\"1\" class=\"dataframe\">\n",
       "  <thead>\n",
       "    <tr style=\"text-align: right;\">\n",
       "      <th></th>\n",
       "      <th>Column Name</th>\n",
       "      <th>Data type</th>\n",
       "    </tr>\n",
       "  </thead>\n",
       "  <tbody>\n",
       "    <tr>\n",
       "      <th>0</th>\n",
       "      <td>legId</td>\n",
       "      <td>string</td>\n",
       "    </tr>\n",
       "    <tr>\n",
       "      <th>1</th>\n",
       "      <td>searchDate</td>\n",
       "      <td>date</td>\n",
       "    </tr>\n",
       "    <tr>\n",
       "      <th>2</th>\n",
       "      <td>flightDate</td>\n",
       "      <td>date</td>\n",
       "    </tr>\n",
       "    <tr>\n",
       "      <th>3</th>\n",
       "      <td>startingAirport</td>\n",
       "      <td>string</td>\n",
       "    </tr>\n",
       "    <tr>\n",
       "      <th>4</th>\n",
       "      <td>destinationAirport</td>\n",
       "      <td>string</td>\n",
       "    </tr>\n",
       "    <tr>\n",
       "      <th>5</th>\n",
       "      <td>fareBasisCode</td>\n",
       "      <td>string</td>\n",
       "    </tr>\n",
       "    <tr>\n",
       "      <th>6</th>\n",
       "      <td>travelDuration</td>\n",
       "      <td>string</td>\n",
       "    </tr>\n",
       "    <tr>\n",
       "      <th>7</th>\n",
       "      <td>elapsedDays</td>\n",
       "      <td>int</td>\n",
       "    </tr>\n",
       "    <tr>\n",
       "      <th>8</th>\n",
       "      <td>isBasicEconomy</td>\n",
       "      <td>boolean</td>\n",
       "    </tr>\n",
       "    <tr>\n",
       "      <th>9</th>\n",
       "      <td>isRefundable</td>\n",
       "      <td>boolean</td>\n",
       "    </tr>\n",
       "    <tr>\n",
       "      <th>10</th>\n",
       "      <td>isNonStop</td>\n",
       "      <td>boolean</td>\n",
       "    </tr>\n",
       "    <tr>\n",
       "      <th>11</th>\n",
       "      <td>baseFare</td>\n",
       "      <td>float</td>\n",
       "    </tr>\n",
       "    <tr>\n",
       "      <th>12</th>\n",
       "      <td>totalFare</td>\n",
       "      <td>float</td>\n",
       "    </tr>\n",
       "    <tr>\n",
       "      <th>13</th>\n",
       "      <td>seatsRemaining</td>\n",
       "      <td>int</td>\n",
       "    </tr>\n",
       "    <tr>\n",
       "      <th>14</th>\n",
       "      <td>totalTravelDistance</td>\n",
       "      <td>float</td>\n",
       "    </tr>\n",
       "    <tr>\n",
       "      <th>15</th>\n",
       "      <td>segmentsDepartureTimeEpochSeconds</td>\n",
       "      <td>string</td>\n",
       "    </tr>\n",
       "    <tr>\n",
       "      <th>16</th>\n",
       "      <td>segmentsDepartureTimeRaw</td>\n",
       "      <td>string</td>\n",
       "    </tr>\n",
       "    <tr>\n",
       "      <th>17</th>\n",
       "      <td>segmentsArrivalTimeEpochSeconds</td>\n",
       "      <td>string</td>\n",
       "    </tr>\n",
       "    <tr>\n",
       "      <th>18</th>\n",
       "      <td>segmentsArrivalTimeRaw</td>\n",
       "      <td>string</td>\n",
       "    </tr>\n",
       "    <tr>\n",
       "      <th>19</th>\n",
       "      <td>segmentsArrivalAirportCode</td>\n",
       "      <td>string</td>\n",
       "    </tr>\n",
       "    <tr>\n",
       "      <th>20</th>\n",
       "      <td>segmentsDepartureAirportCode</td>\n",
       "      <td>string</td>\n",
       "    </tr>\n",
       "    <tr>\n",
       "      <th>21</th>\n",
       "      <td>segmentsAirlineName</td>\n",
       "      <td>string</td>\n",
       "    </tr>\n",
       "    <tr>\n",
       "      <th>22</th>\n",
       "      <td>segmentsAirlineCode</td>\n",
       "      <td>string</td>\n",
       "    </tr>\n",
       "    <tr>\n",
       "      <th>23</th>\n",
       "      <td>segmentsEquipmentDescription</td>\n",
       "      <td>string</td>\n",
       "    </tr>\n",
       "    <tr>\n",
       "      <th>24</th>\n",
       "      <td>segmentsDurationInSeconds</td>\n",
       "      <td>string</td>\n",
       "    </tr>\n",
       "    <tr>\n",
       "      <th>25</th>\n",
       "      <td>segmentsDistance</td>\n",
       "      <td>string</td>\n",
       "    </tr>\n",
       "    <tr>\n",
       "      <th>26</th>\n",
       "      <td>segmentsCabinCode</td>\n",
       "      <td>string</td>\n",
       "    </tr>\n",
       "  </tbody>\n",
       "</table>\n",
       "</div>"
      ],
      "text/plain": [
       "                          Column Name Data type\n",
       "0                               legId    string\n",
       "1                          searchDate      date\n",
       "2                          flightDate      date\n",
       "3                     startingAirport    string\n",
       "4                  destinationAirport    string\n",
       "5                       fareBasisCode    string\n",
       "6                      travelDuration    string\n",
       "7                         elapsedDays       int\n",
       "8                      isBasicEconomy   boolean\n",
       "9                        isRefundable   boolean\n",
       "10                          isNonStop   boolean\n",
       "11                           baseFare     float\n",
       "12                          totalFare     float\n",
       "13                     seatsRemaining       int\n",
       "14                totalTravelDistance     float\n",
       "15  segmentsDepartureTimeEpochSeconds    string\n",
       "16           segmentsDepartureTimeRaw    string\n",
       "17    segmentsArrivalTimeEpochSeconds    string\n",
       "18             segmentsArrivalTimeRaw    string\n",
       "19         segmentsArrivalAirportCode    string\n",
       "20       segmentsDepartureAirportCode    string\n",
       "21                segmentsAirlineName    string\n",
       "22                segmentsAirlineCode    string\n",
       "23       segmentsEquipmentDescription    string\n",
       "24          segmentsDurationInSeconds    string\n",
       "25                   segmentsDistance    string\n",
       "26                  segmentsCabinCode    string"
      ]
     },
     "execution_count": 5,
     "metadata": {},
     "output_type": "execute_result"
    }
   ],
   "source": [
    "'Data overview'\n",
    "df.printSchema()\n",
    "'Columns overview'\n",
    "pd.DataFrame(df.dtypes, columns = ['Column Name','Data type'])"
   ]
  },
  {
   "cell_type": "code",
   "execution_count": 6,
   "id": "9be240c2-784b-43e8-8afb-d0d13a29c3da",
   "metadata": {
    "editable": true,
    "slideshow": {
     "slide_type": ""
    },
    "tags": []
   },
   "outputs": [],
   "source": [
    "# Создаим выборку из 100 строк\n",
    "data = df.sample(True, 0.000001, 42)"
   ]
  },
  {
   "cell_type": "code",
   "execution_count": 7,
   "id": "4d63d65d-c7e5-4878-9648-87cb6e9ad806",
   "metadata": {
    "editable": true,
    "slideshow": {
     "slide_type": ""
    },
    "tags": []
   },
   "outputs": [
    {
     "data": {
      "text/html": [
       "<div>\n",
       "<style scoped>\n",
       "    .dataframe tbody tr th:only-of-type {\n",
       "        vertical-align: middle;\n",
       "    }\n",
       "\n",
       "    .dataframe tbody tr th {\n",
       "        vertical-align: top;\n",
       "    }\n",
       "\n",
       "    .dataframe thead th {\n",
       "        text-align: right;\n",
       "    }\n",
       "</style>\n",
       "<table border=\"1\" class=\"dataframe\">\n",
       "  <thead>\n",
       "    <tr style=\"text-align: right;\">\n",
       "      <th></th>\n",
       "      <th>summary</th>\n",
       "      <th>legId</th>\n",
       "      <th>startingAirport</th>\n",
       "      <th>destinationAirport</th>\n",
       "      <th>fareBasisCode</th>\n",
       "      <th>travelDuration</th>\n",
       "      <th>elapsedDays</th>\n",
       "      <th>baseFare</th>\n",
       "      <th>totalFare</th>\n",
       "      <th>seatsRemaining</th>\n",
       "      <th>...</th>\n",
       "      <th>segmentsArrivalTimeEpochSeconds</th>\n",
       "      <th>segmentsArrivalTimeRaw</th>\n",
       "      <th>segmentsArrivalAirportCode</th>\n",
       "      <th>segmentsDepartureAirportCode</th>\n",
       "      <th>segmentsAirlineName</th>\n",
       "      <th>segmentsAirlineCode</th>\n",
       "      <th>segmentsEquipmentDescription</th>\n",
       "      <th>segmentsDurationInSeconds</th>\n",
       "      <th>segmentsDistance</th>\n",
       "      <th>segmentsCabinCode</th>\n",
       "    </tr>\n",
       "  </thead>\n",
       "  <tbody>\n",
       "    <tr>\n",
       "      <th>0</th>\n",
       "      <td>count</td>\n",
       "      <td>84</td>\n",
       "      <td>84</td>\n",
       "      <td>84</td>\n",
       "      <td>84</td>\n",
       "      <td>84</td>\n",
       "      <td>84</td>\n",
       "      <td>84</td>\n",
       "      <td>84</td>\n",
       "      <td>84</td>\n",
       "      <td>...</td>\n",
       "      <td>84</td>\n",
       "      <td>84</td>\n",
       "      <td>84</td>\n",
       "      <td>84</td>\n",
       "      <td>84</td>\n",
       "      <td>84</td>\n",
       "      <td>84</td>\n",
       "      <td>84</td>\n",
       "      <td>84</td>\n",
       "      <td>84</td>\n",
       "    </tr>\n",
       "    <tr>\n",
       "      <th>1</th>\n",
       "      <td>mean</td>\n",
       "      <td>None</td>\n",
       "      <td>None</td>\n",
       "      <td>None</td>\n",
       "      <td>None</td>\n",
       "      <td>None</td>\n",
       "      <td>0.15476190476190477</td>\n",
       "      <td>286.1994044184685</td>\n",
       "      <td>332.32178837912426</td>\n",
       "      <td>6.928571428571429</td>\n",
       "      <td>...</td>\n",
       "      <td>1.658749420909091E9</td>\n",
       "      <td>None</td>\n",
       "      <td>None</td>\n",
       "      <td>None</td>\n",
       "      <td>None</td>\n",
       "      <td>None</td>\n",
       "      <td>None</td>\n",
       "      <td>11473.636363636364</td>\n",
       "      <td>1190.1363636363637</td>\n",
       "      <td>None</td>\n",
       "    </tr>\n",
       "    <tr>\n",
       "      <th>2</th>\n",
       "      <td>stddev</td>\n",
       "      <td>None</td>\n",
       "      <td>None</td>\n",
       "      <td>None</td>\n",
       "      <td>None</td>\n",
       "      <td>None</td>\n",
       "      <td>0.3638498173911941</td>\n",
       "      <td>196.61993831775678</td>\n",
       "      <td>211.7396950772026</td>\n",
       "      <td>2.487490215689248</td>\n",
       "      <td>...</td>\n",
       "      <td>4668149.8158986</td>\n",
       "      <td>None</td>\n",
       "      <td>None</td>\n",
       "      <td>None</td>\n",
       "      <td>None</td>\n",
       "      <td>None</td>\n",
       "      <td>None</td>\n",
       "      <td>6060.747671505746</td>\n",
       "      <td>878.0063615918002</td>\n",
       "      <td>None</td>\n",
       "    </tr>\n",
       "    <tr>\n",
       "      <th>3</th>\n",
       "      <td>min</td>\n",
       "      <td>01cd93e01c1aa9b0f150ddceea4be3d7</td>\n",
       "      <td>ATL</td>\n",
       "      <td>ATL</td>\n",
       "      <td>BA0OA0MQ</td>\n",
       "      <td>PT10H36M</td>\n",
       "      <td>0</td>\n",
       "      <td>1.01</td>\n",
       "      <td>46.59</td>\n",
       "      <td>0</td>\n",
       "      <td>...</td>\n",
       "      <td>1650755700||1650771240</td>\n",
       "      <td>2022-04-23T16:15:00.000-07:00||2022-04-23T20:3...</td>\n",
       "      <td>ATL</td>\n",
       "      <td>ATL</td>\n",
       "      <td>Alaska Airlines</td>\n",
       "      <td>AA</td>\n",
       "      <td>AIRBUS INDUSTRIE A320 SHARKLETS||AIRBUS INDUST...</td>\n",
       "      <td>10200||6780</td>\n",
       "      <td>1104</td>\n",
       "      <td>coach</td>\n",
       "    </tr>\n",
       "    <tr>\n",
       "      <th>4</th>\n",
       "      <td>max</td>\n",
       "      <td>ff346a8c17b59b2535c11fb7d6b5ef2c</td>\n",
       "      <td>SFO</td>\n",
       "      <td>SFO</td>\n",
       "      <td>ZI7AUEL1</td>\n",
       "      <td>PT9H57M</td>\n",
       "      <td>1</td>\n",
       "      <td>1553.49</td>\n",
       "      <td>1703.7</td>\n",
       "      <td>10</td>\n",
       "      <td>...</td>\n",
       "      <td>1668088140</td>\n",
       "      <td>2022-11-10T08:49:00.000-05:00</td>\n",
       "      <td>TPA||MIA</td>\n",
       "      <td>SFO||PHX||LAS</td>\n",
       "      <td>United||United||United</td>\n",
       "      <td>UA||UA||UA</td>\n",
       "      <td>||Embraer 175 (Enhanced Winglets)</td>\n",
       "      <td>9900||11580</td>\n",
       "      <td>None||None</td>\n",
       "      <td>coach||coach||coach</td>\n",
       "    </tr>\n",
       "  </tbody>\n",
       "</table>\n",
       "<p>5 rows × 23 columns</p>\n",
       "</div>"
      ],
      "text/plain": [
       "  summary                             legId startingAirport  \\\n",
       "0   count                                84              84   \n",
       "1    mean                              None            None   \n",
       "2  stddev                              None            None   \n",
       "3     min  01cd93e01c1aa9b0f150ddceea4be3d7             ATL   \n",
       "4     max  ff346a8c17b59b2535c11fb7d6b5ef2c             SFO   \n",
       "\n",
       "  destinationAirport fareBasisCode travelDuration          elapsedDays  \\\n",
       "0                 84            84             84                   84   \n",
       "1               None          None           None  0.15476190476190477   \n",
       "2               None          None           None   0.3638498173911941   \n",
       "3                ATL      BA0OA0MQ       PT10H36M                    0   \n",
       "4                SFO      ZI7AUEL1        PT9H57M                    1   \n",
       "\n",
       "             baseFare           totalFare     seatsRemaining  ...  \\\n",
       "0                  84                  84                 84  ...   \n",
       "1   286.1994044184685  332.32178837912426  6.928571428571429  ...   \n",
       "2  196.61993831775678   211.7396950772026  2.487490215689248  ...   \n",
       "3                1.01               46.59                  0  ...   \n",
       "4             1553.49              1703.7                 10  ...   \n",
       "\n",
       "  segmentsArrivalTimeEpochSeconds  \\\n",
       "0                              84   \n",
       "1             1.658749420909091E9   \n",
       "2                 4668149.8158986   \n",
       "3          1650755700||1650771240   \n",
       "4                      1668088140   \n",
       "\n",
       "                              segmentsArrivalTimeRaw  \\\n",
       "0                                                 84   \n",
       "1                                               None   \n",
       "2                                               None   \n",
       "3  2022-04-23T16:15:00.000-07:00||2022-04-23T20:3...   \n",
       "4                      2022-11-10T08:49:00.000-05:00   \n",
       "\n",
       "  segmentsArrivalAirportCode segmentsDepartureAirportCode  \\\n",
       "0                         84                           84   \n",
       "1                       None                         None   \n",
       "2                       None                         None   \n",
       "3                        ATL                          ATL   \n",
       "4                   TPA||MIA                SFO||PHX||LAS   \n",
       "\n",
       "      segmentsAirlineName segmentsAirlineCode  \\\n",
       "0                      84                  84   \n",
       "1                    None                None   \n",
       "2                    None                None   \n",
       "3         Alaska Airlines                  AA   \n",
       "4  United||United||United          UA||UA||UA   \n",
       "\n",
       "                        segmentsEquipmentDescription  \\\n",
       "0                                                 84   \n",
       "1                                               None   \n",
       "2                                               None   \n",
       "3  AIRBUS INDUSTRIE A320 SHARKLETS||AIRBUS INDUST...   \n",
       "4                  ||Embraer 175 (Enhanced Winglets)   \n",
       "\n",
       "  segmentsDurationInSeconds    segmentsDistance    segmentsCabinCode  \n",
       "0                        84                  84                   84  \n",
       "1        11473.636363636364  1190.1363636363637                 None  \n",
       "2         6060.747671505746   878.0063615918002                 None  \n",
       "3               10200||6780                1104                coach  \n",
       "4               9900||11580          None||None  coach||coach||coach  \n",
       "\n",
       "[5 rows x 23 columns]"
      ]
     },
     "execution_count": 7,
     "metadata": {},
     "output_type": "execute_result"
    }
   ],
   "source": [
    "data.describe().toPandas()"
   ]
  },
  {
   "cell_type": "code",
   "execution_count": 8,
   "id": "9f199b67-db3d-4f06-8dc2-263a35e201f0",
   "metadata": {
    "editable": true,
    "scrolled": true,
    "slideshow": {
     "slide_type": ""
    },
    "tags": []
   },
   "outputs": [
    {
     "data": {
      "text/html": [
       "<div>\n",
       "<style scoped>\n",
       "    .dataframe tbody tr th:only-of-type {\n",
       "        vertical-align: middle;\n",
       "    }\n",
       "\n",
       "    .dataframe tbody tr th {\n",
       "        vertical-align: top;\n",
       "    }\n",
       "\n",
       "    .dataframe thead th {\n",
       "        text-align: right;\n",
       "    }\n",
       "</style>\n",
       "<table border=\"1\" class=\"dataframe\">\n",
       "  <thead>\n",
       "    <tr style=\"text-align: right;\">\n",
       "      <th></th>\n",
       "      <th>0</th>\n",
       "      <th>1</th>\n",
       "      <th>2</th>\n",
       "      <th>3</th>\n",
       "    </tr>\n",
       "  </thead>\n",
       "  <tbody>\n",
       "    <tr>\n",
       "      <th>legId</th>\n",
       "      <td>207edf4a99ed71c2011c516a30661915</td>\n",
       "      <td>9779b11405db2556b86d15c3aa220607</td>\n",
       "      <td>94593cf26176dfc8bd5b7d3d5142fc63</td>\n",
       "      <td>5a0930f8d09d584c19e116ebc65dc695</td>\n",
       "    </tr>\n",
       "    <tr>\n",
       "      <th>searchDate</th>\n",
       "      <td>2022-04-18</td>\n",
       "      <td>2022-04-19</td>\n",
       "      <td>2022-04-26</td>\n",
       "      <td>2022-04-26</td>\n",
       "    </tr>\n",
       "    <tr>\n",
       "      <th>flightDate</th>\n",
       "      <td>2022-04-23</td>\n",
       "      <td>2022-05-03</td>\n",
       "      <td>2022-04-27</td>\n",
       "      <td>2022-05-16</td>\n",
       "    </tr>\n",
       "    <tr>\n",
       "      <th>startingAirport</th>\n",
       "      <td>DEN</td>\n",
       "      <td>ORD</td>\n",
       "      <td>BOS</td>\n",
       "      <td>CLT</td>\n",
       "    </tr>\n",
       "    <tr>\n",
       "      <th>destinationAirport</th>\n",
       "      <td>LAX</td>\n",
       "      <td>DFW</td>\n",
       "      <td>EWR</td>\n",
       "      <td>LAX</td>\n",
       "    </tr>\n",
       "    <tr>\n",
       "      <th>fareBasisCode</th>\n",
       "      <td>LH0OAJMN</td>\n",
       "      <td>GUAIZNN1</td>\n",
       "      <td>Z0BZZNN3</td>\n",
       "      <td>BA0OA0MQ</td>\n",
       "    </tr>\n",
       "    <tr>\n",
       "      <th>travelDuration</th>\n",
       "      <td>PT7H2M</td>\n",
       "      <td>PT2H31M</td>\n",
       "      <td>PT11H51M</td>\n",
       "      <td>PT6H49M</td>\n",
       "    </tr>\n",
       "    <tr>\n",
       "      <th>elapsedDays</th>\n",
       "      <td>0</td>\n",
       "      <td>0</td>\n",
       "      <td>0</td>\n",
       "      <td>0</td>\n",
       "    </tr>\n",
       "    <tr>\n",
       "      <th>isBasicEconomy</th>\n",
       "      <td>False</td>\n",
       "      <td>False</td>\n",
       "      <td>False</td>\n",
       "      <td>False</td>\n",
       "    </tr>\n",
       "    <tr>\n",
       "      <th>isRefundable</th>\n",
       "      <td>False</td>\n",
       "      <td>False</td>\n",
       "      <td>False</td>\n",
       "      <td>False</td>\n",
       "    </tr>\n",
       "    <tr>\n",
       "      <th>isNonStop</th>\n",
       "      <td>False</td>\n",
       "      <td>True</td>\n",
       "      <td>False</td>\n",
       "      <td>False</td>\n",
       "    </tr>\n",
       "    <tr>\n",
       "      <th>baseFare</th>\n",
       "      <td>379.890015</td>\n",
       "      <td>146.979996</td>\n",
       "      <td>204.660004</td>\n",
       "      <td>600.0</td>\n",
       "    </tr>\n",
       "    <tr>\n",
       "      <th>totalFare</th>\n",
       "      <td>431.980011</td>\n",
       "      <td>172.600006</td>\n",
       "      <td>249.210007</td>\n",
       "      <td>667.099976</td>\n",
       "    </tr>\n",
       "    <tr>\n",
       "      <th>seatsRemaining</th>\n",
       "      <td>7</td>\n",
       "      <td>7</td>\n",
       "      <td>7</td>\n",
       "      <td>9</td>\n",
       "    </tr>\n",
       "    <tr>\n",
       "      <th>totalTravelDistance</th>\n",
       "      <td>1818.0</td>\n",
       "      <td>799.0</td>\n",
       "      <td>1582.0</td>\n",
       "      <td>2171.0</td>\n",
       "    </tr>\n",
       "    <tr>\n",
       "      <th>segmentsDepartureTimeEpochSeconds</th>\n",
       "      <td>1650745920||1650762600</td>\n",
       "      <td>1651602000</td>\n",
       "      <td>1651064940||1651100340</td>\n",
       "      <td>1652719560||1652726700</td>\n",
       "    </tr>\n",
       "    <tr>\n",
       "      <th>segmentsDepartureTimeRaw</th>\n",
       "      <td>2022-04-23T14:32:00.000-06:00||2022-04-23T18:1...</td>\n",
       "      <td>2022-05-03T13:20:00.000-05:00</td>\n",
       "      <td>2022-04-27T09:09:00.000-04:00||2022-04-27T17:5...</td>\n",
       "      <td>2022-05-16T12:46:00.000-04:00||2022-05-16T14:4...</td>\n",
       "    </tr>\n",
       "    <tr>\n",
       "      <th>segmentsArrivalTimeEpochSeconds</th>\n",
       "      <td>1650755700||1650771240</td>\n",
       "      <td>1651611060</td>\n",
       "      <td>1651075740||1651107600</td>\n",
       "      <td>1652724180||1652744100</td>\n",
       "    </tr>\n",
       "    <tr>\n",
       "      <th>segmentsArrivalTimeRaw</th>\n",
       "      <td>2022-04-23T16:15:00.000-07:00||2022-04-23T20:3...</td>\n",
       "      <td>2022-05-03T15:51:00.000-05:00</td>\n",
       "      <td>2022-04-27T11:09:00.000-05:00||2022-04-27T21:0...</td>\n",
       "      <td>2022-05-16T14:03:00.000-04:00||2022-05-16T16:3...</td>\n",
       "    </tr>\n",
       "    <tr>\n",
       "      <th>segmentsArrivalAirportCode</th>\n",
       "      <td>PDX||LAX</td>\n",
       "      <td>DFW</td>\n",
       "      <td>ORD||EWR</td>\n",
       "      <td>ATL||LAX</td>\n",
       "    </tr>\n",
       "    <tr>\n",
       "      <th>segmentsDepartureAirportCode</th>\n",
       "      <td>DEN||PDX</td>\n",
       "      <td>ORD</td>\n",
       "      <td>BOS||ORD</td>\n",
       "      <td>CLT||ATL</td>\n",
       "    </tr>\n",
       "    <tr>\n",
       "      <th>segmentsAirlineName</th>\n",
       "      <td>Alaska Airlines||Alaska Airlines</td>\n",
       "      <td>American Airlines</td>\n",
       "      <td>JetBlue Airways||JetBlue Airways</td>\n",
       "      <td>Delta||Delta</td>\n",
       "    </tr>\n",
       "    <tr>\n",
       "      <th>segmentsAirlineCode</th>\n",
       "      <td>AS||AS</td>\n",
       "      <td>AA</td>\n",
       "      <td>B6||B6</td>\n",
       "      <td>DL||DL</td>\n",
       "    </tr>\n",
       "    <tr>\n",
       "      <th>segmentsEquipmentDescription</th>\n",
       "      <td>Boeing 737-900||Airbus A320</td>\n",
       "      <td>Boeing 737-800</td>\n",
       "      <td>Boeing 737-800||Boeing 737-800</td>\n",
       "      <td>Boeing 717||Airbus A321</td>\n",
       "    </tr>\n",
       "    <tr>\n",
       "      <th>segmentsDurationInSeconds</th>\n",
       "      <td>9780||8640</td>\n",
       "      <td>9060</td>\n",
       "      <td>10800||7260</td>\n",
       "      <td>4620||17400</td>\n",
       "    </tr>\n",
       "    <tr>\n",
       "      <th>segmentsDistance</th>\n",
       "      <td>983||835</td>\n",
       "      <td>799</td>\n",
       "      <td>862||720</td>\n",
       "      <td>228||1943</td>\n",
       "    </tr>\n",
       "    <tr>\n",
       "      <th>segmentsCabinCode</th>\n",
       "      <td>coach||coach</td>\n",
       "      <td>coach</td>\n",
       "      <td>coach||coach</td>\n",
       "      <td>coach||coach</td>\n",
       "    </tr>\n",
       "  </tbody>\n",
       "</table>\n",
       "</div>"
      ],
      "text/plain": [
       "                                                                                   0  \\\n",
       "legId                                               207edf4a99ed71c2011c516a30661915   \n",
       "searchDate                                                                2022-04-18   \n",
       "flightDate                                                                2022-04-23   \n",
       "startingAirport                                                                  DEN   \n",
       "destinationAirport                                                               LAX   \n",
       "fareBasisCode                                                               LH0OAJMN   \n",
       "travelDuration                                                                PT7H2M   \n",
       "elapsedDays                                                                        0   \n",
       "isBasicEconomy                                                                 False   \n",
       "isRefundable                                                                   False   \n",
       "isNonStop                                                                      False   \n",
       "baseFare                                                                  379.890015   \n",
       "totalFare                                                                 431.980011   \n",
       "seatsRemaining                                                                     7   \n",
       "totalTravelDistance                                                           1818.0   \n",
       "segmentsDepartureTimeEpochSeconds                             1650745920||1650762600   \n",
       "segmentsDepartureTimeRaw           2022-04-23T14:32:00.000-06:00||2022-04-23T18:1...   \n",
       "segmentsArrivalTimeEpochSeconds                               1650755700||1650771240   \n",
       "segmentsArrivalTimeRaw             2022-04-23T16:15:00.000-07:00||2022-04-23T20:3...   \n",
       "segmentsArrivalAirportCode                                                  PDX||LAX   \n",
       "segmentsDepartureAirportCode                                                DEN||PDX   \n",
       "segmentsAirlineName                                 Alaska Airlines||Alaska Airlines   \n",
       "segmentsAirlineCode                                                           AS||AS   \n",
       "segmentsEquipmentDescription                             Boeing 737-900||Airbus A320   \n",
       "segmentsDurationInSeconds                                                 9780||8640   \n",
       "segmentsDistance                                                            983||835   \n",
       "segmentsCabinCode                                                       coach||coach   \n",
       "\n",
       "                                                                  1  \\\n",
       "legId                              9779b11405db2556b86d15c3aa220607   \n",
       "searchDate                                               2022-04-19   \n",
       "flightDate                                               2022-05-03   \n",
       "startingAirport                                                 ORD   \n",
       "destinationAirport                                              DFW   \n",
       "fareBasisCode                                              GUAIZNN1   \n",
       "travelDuration                                              PT2H31M   \n",
       "elapsedDays                                                       0   \n",
       "isBasicEconomy                                                False   \n",
       "isRefundable                                                  False   \n",
       "isNonStop                                                      True   \n",
       "baseFare                                                 146.979996   \n",
       "totalFare                                                172.600006   \n",
       "seatsRemaining                                                    7   \n",
       "totalTravelDistance                                           799.0   \n",
       "segmentsDepartureTimeEpochSeconds                        1651602000   \n",
       "segmentsDepartureTimeRaw              2022-05-03T13:20:00.000-05:00   \n",
       "segmentsArrivalTimeEpochSeconds                          1651611060   \n",
       "segmentsArrivalTimeRaw                2022-05-03T15:51:00.000-05:00   \n",
       "segmentsArrivalAirportCode                                      DFW   \n",
       "segmentsDepartureAirportCode                                    ORD   \n",
       "segmentsAirlineName                               American Airlines   \n",
       "segmentsAirlineCode                                              AA   \n",
       "segmentsEquipmentDescription                         Boeing 737-800   \n",
       "segmentsDurationInSeconds                                      9060   \n",
       "segmentsDistance                                                799   \n",
       "segmentsCabinCode                                             coach   \n",
       "\n",
       "                                                                                   2  \\\n",
       "legId                                               94593cf26176dfc8bd5b7d3d5142fc63   \n",
       "searchDate                                                                2022-04-26   \n",
       "flightDate                                                                2022-04-27   \n",
       "startingAirport                                                                  BOS   \n",
       "destinationAirport                                                               EWR   \n",
       "fareBasisCode                                                               Z0BZZNN3   \n",
       "travelDuration                                                              PT11H51M   \n",
       "elapsedDays                                                                        0   \n",
       "isBasicEconomy                                                                 False   \n",
       "isRefundable                                                                   False   \n",
       "isNonStop                                                                      False   \n",
       "baseFare                                                                  204.660004   \n",
       "totalFare                                                                 249.210007   \n",
       "seatsRemaining                                                                     7   \n",
       "totalTravelDistance                                                           1582.0   \n",
       "segmentsDepartureTimeEpochSeconds                             1651064940||1651100340   \n",
       "segmentsDepartureTimeRaw           2022-04-27T09:09:00.000-04:00||2022-04-27T17:5...   \n",
       "segmentsArrivalTimeEpochSeconds                               1651075740||1651107600   \n",
       "segmentsArrivalTimeRaw             2022-04-27T11:09:00.000-05:00||2022-04-27T21:0...   \n",
       "segmentsArrivalAirportCode                                                  ORD||EWR   \n",
       "segmentsDepartureAirportCode                                                BOS||ORD   \n",
       "segmentsAirlineName                                 JetBlue Airways||JetBlue Airways   \n",
       "segmentsAirlineCode                                                           B6||B6   \n",
       "segmentsEquipmentDescription                          Boeing 737-800||Boeing 737-800   \n",
       "segmentsDurationInSeconds                                                10800||7260   \n",
       "segmentsDistance                                                            862||720   \n",
       "segmentsCabinCode                                                       coach||coach   \n",
       "\n",
       "                                                                                   3  \n",
       "legId                                               5a0930f8d09d584c19e116ebc65dc695  \n",
       "searchDate                                                                2022-04-26  \n",
       "flightDate                                                                2022-05-16  \n",
       "startingAirport                                                                  CLT  \n",
       "destinationAirport                                                               LAX  \n",
       "fareBasisCode                                                               BA0OA0MQ  \n",
       "travelDuration                                                               PT6H49M  \n",
       "elapsedDays                                                                        0  \n",
       "isBasicEconomy                                                                 False  \n",
       "isRefundable                                                                   False  \n",
       "isNonStop                                                                      False  \n",
       "baseFare                                                                       600.0  \n",
       "totalFare                                                                 667.099976  \n",
       "seatsRemaining                                                                     9  \n",
       "totalTravelDistance                                                           2171.0  \n",
       "segmentsDepartureTimeEpochSeconds                             1652719560||1652726700  \n",
       "segmentsDepartureTimeRaw           2022-05-16T12:46:00.000-04:00||2022-05-16T14:4...  \n",
       "segmentsArrivalTimeEpochSeconds                               1652724180||1652744100  \n",
       "segmentsArrivalTimeRaw             2022-05-16T14:03:00.000-04:00||2022-05-16T16:3...  \n",
       "segmentsArrivalAirportCode                                                  ATL||LAX  \n",
       "segmentsDepartureAirportCode                                                CLT||ATL  \n",
       "segmentsAirlineName                                                     Delta||Delta  \n",
       "segmentsAirlineCode                                                           DL||DL  \n",
       "segmentsEquipmentDescription                                 Boeing 717||Airbus A321  \n",
       "segmentsDurationInSeconds                                                4620||17400  \n",
       "segmentsDistance                                                           228||1943  \n",
       "segmentsCabinCode                                                       coach||coach  "
      ]
     },
     "execution_count": 8,
     "metadata": {},
     "output_type": "execute_result"
    }
   ],
   "source": [
    "data.limit(4).toPandas().transpose()"
   ]
  },
  {
   "cell_type": "markdown",
   "id": "a12dcf94-41a9-470b-910a-a390aaf9702b",
   "metadata": {
    "editable": true,
    "slideshow": {
     "slide_type": ""
    },
    "tags": []
   },
   "source": [
    "## Обнаружение отсутствующих значений  <a class=\"anchor\" id=\"3\"></a>\n",
    "\n",
    "\n",
    "После того как мы увидели столбцы, первое, что мы должны проверить, нет ли в наборе данных пропущенных значений."
   ]
  },
  {
   "cell_type": "code",
   "execution_count": 9,
   "id": "8a1f5135-40ef-4c2d-9a1f-47bd993a9782",
   "metadata": {
    "editable": true,
    "slideshow": {
     "slide_type": ""
    },
    "tags": []
   },
   "outputs": [
    {
     "data": {
      "text/html": [
       "<div>\n",
       "<style scoped>\n",
       "    .dataframe tbody tr th:only-of-type {\n",
       "        vertical-align: middle;\n",
       "    }\n",
       "\n",
       "    .dataframe tbody tr th {\n",
       "        vertical-align: top;\n",
       "    }\n",
       "\n",
       "    .dataframe thead th {\n",
       "        text-align: right;\n",
       "    }\n",
       "</style>\n",
       "<table border=\"1\" class=\"dataframe\">\n",
       "  <thead>\n",
       "    <tr style=\"text-align: right;\">\n",
       "      <th></th>\n",
       "      <th>0</th>\n",
       "    </tr>\n",
       "  </thead>\n",
       "  <tbody>\n",
       "    <tr>\n",
       "      <th>legId</th>\n",
       "      <td>0</td>\n",
       "    </tr>\n",
       "    <tr>\n",
       "      <th>searchDate</th>\n",
       "      <td>0</td>\n",
       "    </tr>\n",
       "    <tr>\n",
       "      <th>flightDate</th>\n",
       "      <td>0</td>\n",
       "    </tr>\n",
       "    <tr>\n",
       "      <th>startingAirport</th>\n",
       "      <td>0</td>\n",
       "    </tr>\n",
       "    <tr>\n",
       "      <th>destinationAirport</th>\n",
       "      <td>0</td>\n",
       "    </tr>\n",
       "    <tr>\n",
       "      <th>fareBasisCode</th>\n",
       "      <td>0</td>\n",
       "    </tr>\n",
       "    <tr>\n",
       "      <th>travelDuration</th>\n",
       "      <td>0</td>\n",
       "    </tr>\n",
       "    <tr>\n",
       "      <th>elapsedDays</th>\n",
       "      <td>0</td>\n",
       "    </tr>\n",
       "    <tr>\n",
       "      <th>isBasicEconomy</th>\n",
       "      <td>0</td>\n",
       "    </tr>\n",
       "    <tr>\n",
       "      <th>isRefundable</th>\n",
       "      <td>0</td>\n",
       "    </tr>\n",
       "    <tr>\n",
       "      <th>isNonStop</th>\n",
       "      <td>0</td>\n",
       "    </tr>\n",
       "    <tr>\n",
       "      <th>baseFare</th>\n",
       "      <td>0</td>\n",
       "    </tr>\n",
       "    <tr>\n",
       "      <th>totalFare</th>\n",
       "      <td>0</td>\n",
       "    </tr>\n",
       "    <tr>\n",
       "      <th>seatsRemaining</th>\n",
       "      <td>0</td>\n",
       "    </tr>\n",
       "    <tr>\n",
       "      <th>totalTravelDistance</th>\n",
       "      <td>4</td>\n",
       "    </tr>\n",
       "    <tr>\n",
       "      <th>segmentsDepartureTimeEpochSeconds</th>\n",
       "      <td>0</td>\n",
       "    </tr>\n",
       "    <tr>\n",
       "      <th>segmentsDepartureTimeRaw</th>\n",
       "      <td>0</td>\n",
       "    </tr>\n",
       "    <tr>\n",
       "      <th>segmentsArrivalTimeEpochSeconds</th>\n",
       "      <td>0</td>\n",
       "    </tr>\n",
       "    <tr>\n",
       "      <th>segmentsArrivalTimeRaw</th>\n",
       "      <td>0</td>\n",
       "    </tr>\n",
       "    <tr>\n",
       "      <th>segmentsArrivalAirportCode</th>\n",
       "      <td>0</td>\n",
       "    </tr>\n",
       "    <tr>\n",
       "      <th>segmentsDepartureAirportCode</th>\n",
       "      <td>0</td>\n",
       "    </tr>\n",
       "    <tr>\n",
       "      <th>segmentsAirlineName</th>\n",
       "      <td>0</td>\n",
       "    </tr>\n",
       "    <tr>\n",
       "      <th>segmentsAirlineCode</th>\n",
       "      <td>0</td>\n",
       "    </tr>\n",
       "    <tr>\n",
       "      <th>segmentsEquipmentDescription</th>\n",
       "      <td>0</td>\n",
       "    </tr>\n",
       "    <tr>\n",
       "      <th>segmentsDurationInSeconds</th>\n",
       "      <td>0</td>\n",
       "    </tr>\n",
       "    <tr>\n",
       "      <th>segmentsDistance</th>\n",
       "      <td>0</td>\n",
       "    </tr>\n",
       "    <tr>\n",
       "      <th>segmentsCabinCode</th>\n",
       "      <td>0</td>\n",
       "    </tr>\n",
       "  </tbody>\n",
       "</table>\n",
       "</div>"
      ],
      "text/plain": [
       "                                   0\n",
       "legId                              0\n",
       "searchDate                         0\n",
       "flightDate                         0\n",
       "startingAirport                    0\n",
       "destinationAirport                 0\n",
       "fareBasisCode                      0\n",
       "travelDuration                     0\n",
       "elapsedDays                        0\n",
       "isBasicEconomy                     0\n",
       "isRefundable                       0\n",
       "isNonStop                          0\n",
       "baseFare                           0\n",
       "totalFare                          0\n",
       "seatsRemaining                     0\n",
       "totalTravelDistance                4\n",
       "segmentsDepartureTimeEpochSeconds  0\n",
       "segmentsDepartureTimeRaw           0\n",
       "segmentsArrivalTimeEpochSeconds    0\n",
       "segmentsArrivalTimeRaw             0\n",
       "segmentsArrivalAirportCode         0\n",
       "segmentsDepartureAirportCode       0\n",
       "segmentsAirlineName                0\n",
       "segmentsAirlineCode                0\n",
       "segmentsEquipmentDescription       0\n",
       "segmentsDurationInSeconds          0\n",
       "segmentsDistance                   0\n",
       "segmentsCabinCode                  0"
      ]
     },
     "execution_count": 9,
     "metadata": {},
     "output_type": "execute_result"
    }
   ],
   "source": [
    "from pyspark.sql.functions import isnull, when, count, col\n",
    "nacounts = data.select([count(when(isnull(c), c)).alias(c) for c in df.columns]).toPandas()\n",
    "nacounts.transpose()"
   ]
  },
  {
   "cell_type": "code",
   "execution_count": 10,
   "id": "4f921e16-7cf7-41ed-9465-76671e63329a",
   "metadata": {},
   "outputs": [],
   "source": [
    "# Т.к. в нашей выборке мало строк с пропущенными значениями, просто удалим их\n",
    "data = data.dropna()\n"
   ]
  },
  {
   "cell_type": "code",
   "execution_count": 11,
   "id": "dd9c9a19-0ffb-4d75-b288-06665dd2edb7",
   "metadata": {
    "scrolled": true
   },
   "outputs": [
    {
     "name": "stdout",
     "output_type": "stream",
     "text": [
      "el:totalTravelDistance\n",
      "lower_bound:-1377.25\n",
      "upper_bound4562.75\n",
      "el:seatsRemaining\n",
      "lower_bound:4.0\n",
      "upper_bound12.0\n",
      "el:totalFare\n",
      "lower_bound:-102.58749389648438\n",
      "upper_bound762.9125061035156\n",
      "el:baseFare\n",
      "lower_bound:-113.0050048828125\n",
      "upper_bound679.5150146484375\n",
      "el:elapsedDays\n",
      "lower_bound:0.0\n",
      "upper_bound0.0\n"
     ]
    }
   ],
   "source": [
    "numeric_dt =  ['totalTravelDistance', 'seatsRemaining', 'totalFare', 'baseFare', 'elapsedDays']\n",
    "\n",
    "for el in numeric_dt:\n",
    "    q1 = data.select(el).toPandas().quantile(0.25)\n",
    "    q3 = data.select(el).toPandas().quantile(0.75)\n",
    "    iqr = q3-q1\n",
    "    lower_bound = (q1 - 1.5 * iqr)[0]\n",
    "    upper_bound = (q3 + 1.5 * iqr)[0]\n",
    "    data = data.filter( (col(el) >= lower_bound) & (col(el) <= upper_bound) )\n",
    "    print(f'el:{el}\\nlower_bound:{lower_bound}\\nupper_bound{upper_bound}')\n"
   ]
  },
  {
   "cell_type": "markdown",
   "id": "528071fa-480d-4651-8dc5-558d7ce79e5d",
   "metadata": {},
   "source": [
    "## Статистика по числовы данным"
   ]
  },
  {
   "cell_type": "code",
   "execution_count": 12,
   "id": "e833d373-71e0-44c8-a231-375b1b6ec09f",
   "metadata": {
    "editable": true,
    "slideshow": {
     "slide_type": ""
    },
    "tags": []
   },
   "outputs": [
    {
     "data": {
      "text/html": [
       "<div>\n",
       "<style scoped>\n",
       "    .dataframe tbody tr th:only-of-type {\n",
       "        vertical-align: middle;\n",
       "    }\n",
       "\n",
       "    .dataframe tbody tr th {\n",
       "        vertical-align: top;\n",
       "    }\n",
       "\n",
       "    .dataframe thead th {\n",
       "        text-align: right;\n",
       "    }\n",
       "</style>\n",
       "<table border=\"1\" class=\"dataframe\">\n",
       "  <thead>\n",
       "    <tr style=\"text-align: right;\">\n",
       "      <th>summary</th>\n",
       "      <th>count</th>\n",
       "      <th>mean</th>\n",
       "      <th>stddev</th>\n",
       "      <th>min</th>\n",
       "      <th>25%</th>\n",
       "      <th>50%</th>\n",
       "      <th>75%</th>\n",
       "      <th>max</th>\n",
       "    </tr>\n",
       "  </thead>\n",
       "  <tbody>\n",
       "    <tr>\n",
       "      <th>totalFare</th>\n",
       "      <td>62</td>\n",
       "      <td>308.85129411758913</td>\n",
       "      <td>147.5643828261338</td>\n",
       "      <td>73.6</td>\n",
       "      <td>203.6</td>\n",
       "      <td>264.01</td>\n",
       "      <td>422.6</td>\n",
       "      <td>667.1</td>\n",
       "    </tr>\n",
       "    <tr>\n",
       "      <th>seatsRemaining</th>\n",
       "      <td>62</td>\n",
       "      <td>7.67741935483871</td>\n",
       "      <td>1.1703186276014976</td>\n",
       "      <td>4</td>\n",
       "      <td>7</td>\n",
       "      <td>7</td>\n",
       "      <td>9</td>\n",
       "      <td>10</td>\n",
       "    </tr>\n",
       "    <tr>\n",
       "      <th>totalTravelDistance</th>\n",
       "      <td>62</td>\n",
       "      <td>1523.774193548387</td>\n",
       "      <td>850.9107833905518</td>\n",
       "      <td>185.0</td>\n",
       "      <td>799.0</td>\n",
       "      <td>1329.0</td>\n",
       "      <td>2332.0</td>\n",
       "      <td>3670.0</td>\n",
       "    </tr>\n",
       "    <tr>\n",
       "      <th>segmentsDepartureTimeEpochSeconds</th>\n",
       "      <td>62</td>\n",
       "      <td>1.65809592E9</td>\n",
       "      <td>4538698.23989214</td>\n",
       "      <td>1650745920||1650762600</td>\n",
       "      <td>1.65451068E9</td>\n",
       "      <td>1.6574523E9</td>\n",
       "      <td>1.65978948E9</td>\n",
       "      <td>1668081600</td>\n",
       "    </tr>\n",
       "  </tbody>\n",
       "</table>\n",
       "</div>"
      ],
      "text/plain": [
       "summary                           count                mean  \\\n",
       "totalFare                            62  308.85129411758913   \n",
       "seatsRemaining                       62    7.67741935483871   \n",
       "totalTravelDistance                  62   1523.774193548387   \n",
       "segmentsDepartureTimeEpochSeconds    62        1.65809592E9   \n",
       "\n",
       "summary                                        stddev                     min  \\\n",
       "totalFare                           147.5643828261338                    73.6   \n",
       "seatsRemaining                     1.1703186276014976                       4   \n",
       "totalTravelDistance                 850.9107833905518                   185.0   \n",
       "segmentsDepartureTimeEpochSeconds    4538698.23989214  1650745920||1650762600   \n",
       "\n",
       "summary                                     25%          50%           75%  \\\n",
       "totalFare                                 203.6       264.01         422.6   \n",
       "seatsRemaining                                7            7             9   \n",
       "totalTravelDistance                       799.0       1329.0        2332.0   \n",
       "segmentsDepartureTimeEpochSeconds  1.65451068E9  1.6574523E9  1.65978948E9   \n",
       "\n",
       "summary                                   max  \n",
       "totalFare                               667.1  \n",
       "seatsRemaining                             10  \n",
       "totalTravelDistance                    3670.0  \n",
       "segmentsDepartureTimeEpochSeconds  1668081600  "
      ]
     },
     "execution_count": 12,
     "metadata": {},
     "output_type": "execute_result"
    }
   ],
   "source": [
    "data.summary().toPandas().set_index('summary').transpose().dropna()[2:6]"
   ]
  },
  {
   "cell_type": "markdown",
   "id": "7afefa54-5dab-4ab9-8a33-8b3bb37c0c1a",
   "metadata": {},
   "source": [
    "## Графический анализ по данным"
   ]
  },
  {
   "cell_type": "code",
   "execution_count": 13,
   "id": "54d23a4b-cb57-4589-9458-340b969194e2",
   "metadata": {
    "editable": true,
    "slideshow": {
     "slide_type": ""
    },
    "tags": []
   },
   "outputs": [],
   "source": [
    "startingAirport = data.groupBy('startingAirport').count().toPandas() \n"
   ]
  },
  {
   "cell_type": "code",
   "execution_count": 14,
   "id": "73d997f0-d970-4fbb-af3d-c443788b76db",
   "metadata": {},
   "outputs": [
    {
     "data": {
      "text/html": [
       "<div>\n",
       "<style scoped>\n",
       "    .dataframe tbody tr th:only-of-type {\n",
       "        vertical-align: middle;\n",
       "    }\n",
       "\n",
       "    .dataframe tbody tr th {\n",
       "        vertical-align: top;\n",
       "    }\n",
       "\n",
       "    .dataframe thead th {\n",
       "        text-align: right;\n",
       "    }\n",
       "</style>\n",
       "<table border=\"1\" class=\"dataframe\">\n",
       "  <thead>\n",
       "    <tr style=\"text-align: right;\">\n",
       "      <th></th>\n",
       "      <th>startingAirport</th>\n",
       "      <th>count</th>\n",
       "      <th>percentage</th>\n",
       "    </tr>\n",
       "  </thead>\n",
       "  <tbody>\n",
       "    <tr>\n",
       "      <th>2</th>\n",
       "      <td>BOS</td>\n",
       "      <td>8</td>\n",
       "      <td>12.903226</td>\n",
       "    </tr>\n",
       "    <tr>\n",
       "      <th>7</th>\n",
       "      <td>MIA</td>\n",
       "      <td>6</td>\n",
       "      <td>9.677419</td>\n",
       "    </tr>\n",
       "    <tr>\n",
       "      <th>10</th>\n",
       "      <td>LGA</td>\n",
       "      <td>6</td>\n",
       "      <td>9.677419</td>\n",
       "    </tr>\n",
       "    <tr>\n",
       "      <th>5</th>\n",
       "      <td>DTW</td>\n",
       "      <td>5</td>\n",
       "      <td>8.064516</td>\n",
       "    </tr>\n",
       "    <tr>\n",
       "      <th>6</th>\n",
       "      <td>SFO</td>\n",
       "      <td>5</td>\n",
       "      <td>8.064516</td>\n",
       "    </tr>\n",
       "    <tr>\n",
       "      <th>9</th>\n",
       "      <td>DFW</td>\n",
       "      <td>5</td>\n",
       "      <td>8.064516</td>\n",
       "    </tr>\n",
       "  </tbody>\n",
       "</table>\n",
       "</div>"
      ],
      "text/plain": [
       "   startingAirport  count  percentage\n",
       "2              BOS      8   12.903226\n",
       "7              MIA      6    9.677419\n",
       "10             LGA      6    9.677419\n",
       "5              DTW      5    8.064516\n",
       "6              SFO      5    8.064516\n",
       "9              DFW      5    8.064516"
      ]
     },
     "execution_count": 14,
     "metadata": {},
     "output_type": "execute_result"
    }
   ],
   "source": [
    "startingAirport['percentage'] = startingAirport['count'] \\\n",
    "    / sum(startingAirport['count']) * 100\n",
    "startingAirport_stat = startingAirport.sort_values('count', ascending=False).head(6)\n",
    "startingAirport_stat"
   ]
  },
  {
   "cell_type": "code",
   "execution_count": 15,
   "id": "0df6c1dc-6a9b-4242-b951-de6cec51fa2b",
   "metadata": {
    "editable": true,
    "slideshow": {
     "slide_type": ""
    },
    "tags": []
   },
   "outputs": [
    {
     "name": "stderr",
     "output_type": "stream",
     "text": [
      "/tmp/ipykernel_78112/2166434716.py:8: UserWarning: set_ticklabels() should only be used with a fixed number of ticks, i.e. after set_ticks() or using a FixedLocator.\n",
      "  xsticks_label = axs[0].set_xticklabels(startingAirport_stat['startingAirport']\n"
     ]
    },
    {
     "data": {
      "image/png": "[encoded data removed]",
      "text/plain": [
       "<Figure size 1371.43x480 with 2 Axes>"
      ]
     },
     "metadata": {},
     "output_type": "display_data"
    }
   ],
   "source": [
    "fig, axs = plt.subplots(nrows=1, ncols=2, figsize=plt.figaspect(0.35))\n",
    "\n",
    "plot0 = axs[0].bar(x=startingAirport_stat['startingAirport']\n",
    "                   , height=startingAirport_stat['count'])\n",
    "title0 = axs[0].set_title('Вылеты из аэропортов', fontsize='small')\n",
    "xlabel0 = axs[0].set_xlabel('Код аэропорта', fontsize='small')\n",
    "ylabel0 = axs[0].set_ylabel('Количество вылетов', fontsize='small')\n",
    "xsticks_label = axs[0].set_xticklabels(startingAirport_stat['startingAirport']\n",
    "                                       , rotation='vertical', fontsize='small')\n",
    "explode = (0.1, 0.1, 0.3, 0.3, 0.3, 0.3)\n",
    "title1 = axs[1].set_title('Структура вылетов из аэропортов', fontsize = 'small')\n",
    "plot1 = axs[1].pie(\n",
    "    x=startingAirport_stat['percentage']\n",
    "    , labels=startingAirport_stat['startingAirport']\n",
    "    , autopct='%1.1f%%', shadow=True, explode=explode, radius=1\n",
    ")\n",
    "\n",
    "text = fig.text(0.5, 1.02, 'Топ 6 аэропортов по количеству вылетов'\n",
    "                , ha='center', va='top', transform=fig.transFigure)"
   ]
  },
  {
   "cell_type": "code",
   "execution_count": 16,
   "id": "5c6f561f-ba23-43df-8f63-0a94c221fe4e",
   "metadata": {
    "editable": true,
    "slideshow": {
     "slide_type": ""
    },
    "tags": []
   },
   "outputs": [],
   "source": [
    "destinationAirport = data.groupBy('destinationAirport').count().toPandas() "
   ]
  },
  {
   "cell_type": "code",
   "execution_count": 17,
   "id": "7a9aedab-a7d4-43de-bfc3-3008a2df3075",
   "metadata": {},
   "outputs": [
    {
     "data": {
      "text/html": [
       "<div>\n",
       "<style scoped>\n",
       "    .dataframe tbody tr th:only-of-type {\n",
       "        vertical-align: middle;\n",
       "    }\n",
       "\n",
       "    .dataframe tbody tr th {\n",
       "        vertical-align: top;\n",
       "    }\n",
       "\n",
       "    .dataframe thead th {\n",
       "        text-align: right;\n",
       "    }\n",
       "</style>\n",
       "<table border=\"1\" class=\"dataframe\">\n",
       "  <thead>\n",
       "    <tr style=\"text-align: right;\">\n",
       "      <th></th>\n",
       "      <th>destinationAirport</th>\n",
       "      <th>count</th>\n",
       "      <th>percentage</th>\n",
       "    </tr>\n",
       "  </thead>\n",
       "  <tbody>\n",
       "    <tr>\n",
       "      <th>0</th>\n",
       "      <td>LAX</td>\n",
       "      <td>9</td>\n",
       "      <td>14.516129</td>\n",
       "    </tr>\n",
       "    <tr>\n",
       "      <th>3</th>\n",
       "      <td>BOS</td>\n",
       "      <td>8</td>\n",
       "      <td>12.903226</td>\n",
       "    </tr>\n",
       "    <tr>\n",
       "      <th>8</th>\n",
       "      <td>ATL</td>\n",
       "      <td>7</td>\n",
       "      <td>11.290323</td>\n",
       "    </tr>\n",
       "    <tr>\n",
       "      <th>1</th>\n",
       "      <td>DFW</td>\n",
       "      <td>4</td>\n",
       "      <td>6.451613</td>\n",
       "    </tr>\n",
       "    <tr>\n",
       "      <th>2</th>\n",
       "      <td>EWR</td>\n",
       "      <td>4</td>\n",
       "      <td>6.451613</td>\n",
       "    </tr>\n",
       "    <tr>\n",
       "      <th>4</th>\n",
       "      <td>ORD</td>\n",
       "      <td>4</td>\n",
       "      <td>6.451613</td>\n",
       "    </tr>\n",
       "  </tbody>\n",
       "</table>\n",
       "</div>"
      ],
      "text/plain": [
       "  destinationAirport  count  percentage\n",
       "0                LAX      9   14.516129\n",
       "3                BOS      8   12.903226\n",
       "8                ATL      7   11.290323\n",
       "1                DFW      4    6.451613\n",
       "2                EWR      4    6.451613\n",
       "4                ORD      4    6.451613"
      ]
     },
     "execution_count": 17,
     "metadata": {},
     "output_type": "execute_result"
    }
   ],
   "source": [
    "destinationAirport['percentage'] = destinationAirport['count'] \\\n",
    "    / sum(destinationAirport['count']) * 100\n",
    "destinationAirport_stat = destinationAirport.sort_values('count', ascending=False).head(6)\n",
    "destinationAirport_stat"
   ]
  },
  {
   "cell_type": "code",
   "execution_count": 18,
   "id": "cd4903f8-ca76-4a3a-ac3c-01a594613cdc",
   "metadata": {},
   "outputs": [
    {
     "name": "stderr",
     "output_type": "stream",
     "text": [
      "/tmp/ipykernel_78112/399932134.py:8: UserWarning: set_ticklabels() should only be used with a fixed number of ticks, i.e. after set_ticks() or using a FixedLocator.\n",
      "  xsticks_label = axs[0].set_xticklabels(destinationAirport_stat['destinationAirport']\n"
     ]
    },
    {
     "data": {
      "image/png": "[encoded data removed]",
      "text/plain": [
       "<Figure size 1371.43x480 with 2 Axes>"
      ]
     },
     "metadata": {},
     "output_type": "display_data"
    }
   ],
   "source": [
    "fig, axs = plt.subplots(nrows=1, ncols=2, figsize=plt.figaspect(0.35))\n",
    "\n",
    "plot0 = axs[0].bar(x=destinationAirport_stat['destinationAirport']\n",
    "                   , height=destinationAirport_stat['count'])\n",
    "title0 = axs[0].set_title('Посадки в аэропорту', fontsize='small')\n",
    "xlabel0 = axs[0].set_xlabel('Код аэропорта', fontsize='small')\n",
    "ylabel0 = axs[0].set_ylabel('Количество посадок', fontsize='small')\n",
    "xsticks_label = axs[0].set_xticklabels(destinationAirport_stat['destinationAirport']\n",
    "                                       , rotation='vertical', fontsize='small')\n",
    "explode = (0.1, 0.1, 0.3, 0.3, 0.3, 0.3)\n",
    "title1 = axs[1].set_title('Структура посадок в аэропорт', fontsize = 'small')\n",
    "plot1 = axs[1].pie(\n",
    "    x=destinationAirport_stat['percentage']\n",
    "    , labels=destinationAirport_stat['destinationAirport']\n",
    "    , autopct='%1.1f%%', shadow=True, explode=explode, radius=1\n",
    ")\n",
    "\n",
    "text = fig.text(0.5, 1.02, 'Топ 6 аэропортов по количеству посадок'\n",
    "                , ha='center', va='top', transform=fig.transFigure)"
   ]
  },
  {
   "cell_type": "code",
   "execution_count": 19,
   "id": "8c7d3c20-35ae-4b7f-9fd1-3d3426989779",
   "metadata": {
    "editable": true,
    "slideshow": {
     "slide_type": ""
    },
    "tags": []
   },
   "outputs": [],
   "source": [
    "data_analytic = data.toPandas()"
   ]
  },
  {
   "cell_type": "code",
   "execution_count": 20,
   "id": "280ebe0f-fc3b-4596-a32a-654f094c1389",
   "metadata": {},
   "outputs": [
    {
     "data": {
      "text/plain": [
       "<Axes: >"
      ]
     },
     "execution_count": 20,
     "metadata": {},
     "output_type": "execute_result"
    },
    {
     "data": {
      "image/png": "[encoded data removed]",
      "text/plain": [
       "<Figure size 640x480 with 1 Axes>"
      ]
     },
     "metadata": {},
     "output_type": "display_data"
    }
   ],
   "source": [
    "data_analytic.searchDate.hist()"
   ]
  },
  {
   "cell_type": "code",
   "execution_count": 21,
   "id": "1fe5920c-b10e-46ef-b67c-fe675160c535",
   "metadata": {},
   "outputs": [
    {
     "data": {
      "text/plain": [
       "<Axes: >"
      ]
     },
     "execution_count": 21,
     "metadata": {},
     "output_type": "execute_result"
    },
    {
     "data": {
      "image/png": "[encoded data removed]",
      "text/plain": [
       "<Figure size 640x480 with 1 Axes>"
      ]
     },
     "metadata": {},
     "output_type": "display_data"
    }
   ],
   "source": [
    "data_analytic.flightDate.hist()"
   ]
  },
  {
   "cell_type": "code",
   "execution_count": 22,
   "id": "cac78123-f21f-4800-b60b-d3381f6f6f57",
   "metadata": {
    "editable": true,
    "slideshow": {
     "slide_type": ""
    },
    "tags": []
   },
   "outputs": [
    {
     "data": {
      "text/plain": [
       "array([[<Axes: title={'center': 'baseFare'}>,\n",
       "        <Axes: title={'center': 'totalFare'}>],\n",
       "       [<Axes: title={'center': 'seatsRemaining'}>,\n",
       "        <Axes: title={'center': 'totalTravelDistance'}>]], dtype=object)"
      ]
     },
     "execution_count": 22,
     "metadata": {},
     "output_type": "execute_result"
    },
    {
     "data": {
      "image/png": "[encoded data removed]",
      "text/plain": [
       "<Figure size 1000x1000 with 4 Axes>"
      ]
     },
     "metadata": {},
     "output_type": "display_data"
    }
   ],
   "source": [
    "data_analytic[['baseFare', 'totalFare', 'seatsRemaining', 'totalTravelDistance']].hist(figsize=(10,10))"
   ]
  },
  {
   "cell_type": "code",
   "execution_count": 23,
   "id": "477a0311-f536-4a57-a909-f6672e8f8722",
   "metadata": {},
   "outputs": [
    {
     "data": {
      "text/plain": [
       "11"
      ]
     },
     "execution_count": 23,
     "metadata": {},
     "output_type": "execute_result"
    },
    {
     "data": {
      "text/plain": [
       "62"
      ]
     },
     "execution_count": 23,
     "metadata": {},
     "output_type": "execute_result"
    },
    {
     "data": {
      "text/plain": [
       "([<matplotlib.patches.Wedge at 0x7f45d803ac90>,\n",
       "  <matplotlib.patches.Wedge at 0x7f45d8056350>],\n",
       " [Text(0.9335086929096249, 0.5818603958529602, 'Экономичный билет'),\n",
       "  Text(-0.933508720148475, -0.5818603521522637, 'Не экономичный')],\n",
       " [Text(0.5091865597688863, 0.31737839773797827, '17.7%'),\n",
       "  Text(-0.5091865746264409, -0.3173783739012347, '82.3%')])"
      ]
     },
     "execution_count": 23,
     "metadata": {},
     "output_type": "execute_result"
    },
    {
     "data": {
      "image/png": "[encoded data removed]",
      "text/plain": [
       "<Figure size 640x480 with 1 Axes>"
      ]
     },
     "metadata": {},
     "output_type": "display_data"
    }
   ],
   "source": [
    "sum(data_analytic.isBasicEconomy)\n",
    "data_analytic.isBasicEconomy.count()\n",
    "# Круговая диаграмма, секторы которой будут упорядочены и расположены против часовой стрелки:\n",
    "labels = 'Экономичный билет', 'Не экономичный'\n",
    "sizes = [(sum(data_analytic.isBasicEconomy)/data_analytic.isBasicEconomy.count()), 1-(sum(data_analytic.isBasicEconomy)/data_analytic.isBasicEconomy.count())]\n",
    "fig1, ax1 = plt.subplots()\n",
    "ax1.pie(sizes, labels=labels, autopct='%1.1f%%')\n",
    "plt.show()"
   ]
  },
  {
   "cell_type": "code",
   "execution_count": 24,
   "id": "53480730-425b-4e4c-bd45-717ea38caa2d",
   "metadata": {},
   "outputs": [
    {
     "data": {
      "text/plain": [
       "0"
      ]
     },
     "execution_count": 24,
     "metadata": {},
     "output_type": "execute_result"
    },
    {
     "data": {
      "text/plain": [
       "62"
      ]
     },
     "execution_count": 24,
     "metadata": {},
     "output_type": "execute_result"
    },
    {
     "data": {
      "text/plain": [
       "([<matplotlib.patches.Wedge at 0x7f45d8089150>,\n",
       "  <matplotlib.patches.Wedge at 0x7f45d80a73d0>],\n",
       " [Text(1.1, 0.0, 'Возвратный билет'),\n",
       "  Text(-1.1, 1.3471114790620887e-16, 'Не возвратный билет')],\n",
       " [Text(0.6, 0.0, '0.0%'), Text(-0.6, 7.347880794884119e-17, '100.0%')])"
      ]
     },
     "execution_count": 24,
     "metadata": {},
     "output_type": "execute_result"
    },
    {
     "data": {
      "image/png": "[encoded data removed]",
      "text/plain": [
       "<Figure size 640x480 with 1 Axes>"
      ]
     },
     "metadata": {},
     "output_type": "display_data"
    }
   ],
   "source": [
    "\n",
    "sum(data_analytic.isRefundable)\n",
    "data_analytic.isRefundable.count()\n",
    "# Круговая диаграмма, секторы которой будут упорядочены и расположены против часовой стрелки:\n",
    "labels = 'Возвратный билет', 'Не возвратный билет'\n",
    "sizes = [(sum(data_analytic.isRefundable)/data_analytic.isRefundable.count()), 1-(sum(data_analytic.isRefundable)/data_analytic.isRefundable.count())]\n",
    "fig1, ax1 = plt.subplots()\n",
    "ax1.pie(sizes, labels=labels, autopct='%1.1f%%')\n",
    "plt.show()"
   ]
  },
  {
   "cell_type": "code",
   "execution_count": 25,
   "id": "21599278-b351-46ee-b071-e2940348b067",
   "metadata": {
    "editable": true,
    "slideshow": {
     "slide_type": ""
    },
    "tags": []
   },
   "outputs": [
    {
     "data": {
      "text/plain": [
       "19"
      ]
     },
     "execution_count": 25,
     "metadata": {},
     "output_type": "execute_result"
    },
    {
     "data": {
      "text/plain": [
       "62"
      ]
     },
     "execution_count": 25,
     "metadata": {},
     "output_type": "execute_result"
    },
    {
     "data": {
      "text/plain": [
       "([<matplotlib.patches.Wedge at 0x7f45d8056fd0>,\n",
       "  <matplotlib.patches.Wedge at 0x7f45d80f2310>],\n",
       " [Text(0.6283950202436337, 0.9028397967153438, 'Беспосадочный рейс'),\n",
       "  Text(-0.6283950202436337, -0.9028397967153439, 'Посадочный рейс')],\n",
       " [Text(0.3427609201328911, 0.492458070935642, '30.6%'),\n",
       "  Text(-0.3427609201328911, -0.49245807093564203, '69.4%')])"
      ]
     },
     "execution_count": 25,
     "metadata": {},
     "output_type": "execute_result"
    },
    {
     "data": {
      "image/png": "[encoded data removed]",
      "text/plain": [
       "<Figure size 640x480 with 1 Axes>"
      ]
     },
     "metadata": {},
     "output_type": "display_data"
    }
   ],
   "source": [
    "sum(data_analytic.isNonStop)\n",
    "data_analytic.isNonStop.count()\n",
    "# Круговая диаграмма, секторы которой будут упорядочены и расположены против часовой стрелки:\n",
    "labels = 'Беспосадочный рейс', 'Посадочный рейс'\n",
    "sizes = [(sum(data_analytic.isNonStop)/data_analytic.isNonStop.count()), 1-(sum(data_analytic.isNonStop)/data_analytic.isNonStop.count())]\n",
    "fig1, ax1 = plt.subplots()\n",
    "ax1.pie(sizes, labels=labels, autopct='%1.1f%%')\n",
    "plt.show()"
   ]
  },
  {
   "cell_type": "code",
   "execution_count": 26,
   "id": "4439e3b7-64a3-4ac0-bfd1-472a457cc0be",
   "metadata": {},
   "outputs": [
    {
     "data": {
      "text/html": [
       "<style type=\"text/css\">\n",
       "#T_af41d_row0_col0, #T_af41d_row1_col1, #T_af41d_row2_col2, #T_af41d_row2_col3, #T_af41d_row3_col2, #T_af41d_row3_col3 {\n",
       "  background-color: #023858;\n",
       "  color: #f1f1f1;\n",
       "}\n",
       "#T_af41d_row0_col1 {\n",
       "  background-color: #f7f0f7;\n",
       "  color: #000000;\n",
       "}\n",
       "#T_af41d_row0_col2 {\n",
       "  background-color: #b8c6e0;\n",
       "  color: #000000;\n",
       "}\n",
       "#T_af41d_row0_col3 {\n",
       "  background-color: #bbc7e0;\n",
       "  color: #000000;\n",
       "}\n",
       "#T_af41d_row1_col0, #T_af41d_row1_col2, #T_af41d_row1_col3, #T_af41d_row2_col1, #T_af41d_row3_col1 {\n",
       "  background-color: #fff7fb;\n",
       "  color: #000000;\n",
       "}\n",
       "#T_af41d_row2_col0 {\n",
       "  background-color: #c4cbe3;\n",
       "  color: #000000;\n",
       "}\n",
       "#T_af41d_row3_col0 {\n",
       "  background-color: #c8cde4;\n",
       "  color: #000000;\n",
       "}\n",
       "</style>\n",
       "<table id=\"T_af41d\">\n",
       "  <thead>\n",
       "    <tr>\n",
       "      <th class=\"blank level0\" >&nbsp;</th>\n",
       "      <th id=\"T_af41d_level0_col0\" class=\"col_heading level0 col0\" >totalTravelDistance</th>\n",
       "      <th id=\"T_af41d_level0_col1\" class=\"col_heading level0 col1\" >seatsRemaining</th>\n",
       "      <th id=\"T_af41d_level0_col2\" class=\"col_heading level0 col2\" >totalFare</th>\n",
       "      <th id=\"T_af41d_level0_col3\" class=\"col_heading level0 col3\" >baseFare</th>\n",
       "    </tr>\n",
       "  </thead>\n",
       "  <tbody>\n",
       "    <tr>\n",
       "      <th id=\"T_af41d_level0_row0\" class=\"row_heading level0 row0\" >totalTravelDistance</th>\n",
       "      <td id=\"T_af41d_row0_col0\" class=\"data row0 col0\" >1.000000</td>\n",
       "      <td id=\"T_af41d_row0_col1\" class=\"data row0 col1\" >0.195296</td>\n",
       "      <td id=\"T_af41d_row0_col2\" class=\"data row0 col2\" >0.425709</td>\n",
       "      <td id=\"T_af41d_row0_col3\" class=\"data row0 col3\" >0.416165</td>\n",
       "    </tr>\n",
       "    <tr>\n",
       "      <th id=\"T_af41d_level0_row1\" class=\"row_heading level0 row1\" >seatsRemaining</th>\n",
       "      <td id=\"T_af41d_row1_col0\" class=\"data row1 col0\" >0.195296</td>\n",
       "      <td id=\"T_af41d_row1_col1\" class=\"data row1 col1\" >1.000000</td>\n",
       "      <td id=\"T_af41d_row1_col2\" class=\"data row1 col2\" >0.150406</td>\n",
       "      <td id=\"T_af41d_row1_col3\" class=\"data row1 col3\" >0.148237</td>\n",
       "    </tr>\n",
       "    <tr>\n",
       "      <th id=\"T_af41d_level0_row2\" class=\"row_heading level0 row2\" >totalFare</th>\n",
       "      <td id=\"T_af41d_row2_col0\" class=\"data row2 col0\" >0.425709</td>\n",
       "      <td id=\"T_af41d_row2_col1\" class=\"data row2 col1\" >0.150406</td>\n",
       "      <td id=\"T_af41d_row2_col2\" class=\"data row2 col2\" >1.000000</td>\n",
       "      <td id=\"T_af41d_row2_col3\" class=\"data row2 col3\" >0.999480</td>\n",
       "    </tr>\n",
       "    <tr>\n",
       "      <th id=\"T_af41d_level0_row3\" class=\"row_heading level0 row3\" >baseFare</th>\n",
       "      <td id=\"T_af41d_row3_col0\" class=\"data row3 col0\" >0.416165</td>\n",
       "      <td id=\"T_af41d_row3_col1\" class=\"data row3 col1\" >0.148237</td>\n",
       "      <td id=\"T_af41d_row3_col2\" class=\"data row3 col2\" >0.999480</td>\n",
       "      <td id=\"T_af41d_row3_col3\" class=\"data row3 col3\" >1.000000</td>\n",
       "    </tr>\n",
       "  </tbody>\n",
       "</table>\n"
      ],
      "text/plain": [
       "<pandas.io.formats.style.Styler at 0x7f45d81965d0>"
      ]
     },
     "execution_count": 26,
     "metadata": {},
     "output_type": "execute_result"
    }
   ],
   "source": [
    "corr = data_analytic[['totalTravelDistance', 'seatsRemaining', 'totalFare', 'baseFare']].corr()\n",
    "corr.style.background_gradient()"
   ]
  },
  {
   "cell_type": "markdown",
   "id": "07afcc54-6026-4a5f-bca0-5a7b5b38e427",
   "metadata": {},
   "source": [
    "# II. Машинное обучение на больших данных  <a class=\"anchor\" id=\"3\"></a>\n"
   ]
  },
  {
   "cell_type": "code",
   "execution_count": 28,
   "id": "75b00584-6efb-49f8-8744-b88c8883c1f9",
   "metadata": {},
   "outputs": [],
   "source": [
    "from pyspark.sql.types import *\n",
    "from pyspark.sql.functions import *\n",
    "from pyspark.sql import SparkSession\n",
    "\n",
    "from pyspark.ml import Pipeline\n",
    "from pyspark.ml.feature import VectorAssembler, StringIndexer, VectorIndexer, MinMaxScaler\n",
    "from pyspark.ml.classification import LogisticRegression\n",
    "from pyspark.ml.tuning import ParamGridBuilder, CrossValidator\n",
    "from pyspark.ml.evaluation import BinaryClassificationEvaluator"
   ]
  },
  {
   "cell_type": "code",
   "execution_count": 29,
   "id": "a8b14707-1a0b-4bfb-8b6b-e4ca8a226247",
   "metadata": {},
   "outputs": [],
   "source": [
    "from pyspark.ml import Pipeline\n",
    "from pyspark.ml.regression import RandomForestRegressor\n",
    "from pyspark.ml.feature import VectorIndexer\n",
    "from pyspark.ml.evaluation import RegressionEvaluator"
   ]
  },
  {
   "cell_type": "code",
   "execution_count": 151,
   "id": "139de57c-9f29-4995-8e7d-d2586c68afdb",
   "metadata": {},
   "outputs": [],
   "source": [
    "dataml = data.select(((col(\"isBasicEconomy\")).cast(\"Int\").alias(\"isBasicEconomyInt\")), ((col(\"isNonStop\")).cast(\"Int\").alias(\"isNonStopInt\")), 'totalFare', 'totalTravelDistance', 'seatsRemaining')"
   ]
  },
  {
   "cell_type": "code",
   "execution_count": 152,
   "id": "4fd8e839-1343-459f-99a3-029a59e687c3",
   "metadata": {},
   "outputs": [
    {
     "name": "stdout",
     "output_type": "stream",
     "text": [
      "+-----------------+------------+---------+-------------------+--------------+\n",
      "|isBasicEconomyInt|isNonStopInt|totalFare|totalTravelDistance|seatsRemaining|\n",
      "+-----------------+------------+---------+-------------------+--------------+\n",
      "|                0|           0|   431.98|             1818.0|             7|\n",
      "|                0|           1|    172.6|              799.0|             7|\n",
      "|                0|           0|   249.21|             1582.0|             7|\n",
      "|                0|           0|    667.1|             2171.0|             9|\n",
      "|                0|           0|   349.21|             1392.0|             7|\n",
      "+-----------------+------------+---------+-------------------+--------------+\n",
      "only showing top 5 rows\n",
      "\n"
     ]
    }
   ],
   "source": [
    "dataml.show(5)"
   ]
  },
  {
   "cell_type": "code",
   "execution_count": 153,
   "id": "0262afc2-1372-474c-a2c5-e429d1f772d9",
   "metadata": {},
   "outputs": [
    {
     "name": "stdout",
     "output_type": "stream",
     "text": [
      "root\n",
      " |-- isBasicEconomyInt: integer (nullable = true)\n",
      " |-- isNonStopInt: integer (nullable = true)\n",
      " |-- totalFare: float (nullable = true)\n",
      " |-- totalTravelDistance: float (nullable = true)\n",
      " |-- seatsRemaining: integer (nullable = true)\n",
      "\n"
     ]
    }
   ],
   "source": [
    "dataml.printSchema()"
   ]
  },
  {
   "cell_type": "markdown",
   "id": "bd54bece-2ae4-46ee-9c10-1a383c11b630",
   "metadata": {},
   "source": [
    "## Построение регрессии на основе Random forest regression"
   ]
  },
  {
   "cell_type": "code",
   "execution_count": 154,
   "id": "fae71361-8c65-46a5-ad0c-51c5dddae69b",
   "metadata": {},
   "outputs": [],
   "source": [
    "dff = dataml"
   ]
  },
  {
   "cell_type": "code",
   "execution_count": 155,
   "id": "d61e178c-3e8b-4655-af0a-adbabfe952a1",
   "metadata": {},
   "outputs": [],
   "source": [
    "# Объединяем все признаки в один столбец 'features'\n",
    "feature_columns = dff.columns\n",
    "feature_columns.remove(\"totalFare\")  # Удаляем целевую переменную из списка признаков\n",
    "assembler = VectorAssembler(inputCols=feature_columns, outputCol=\"features\")\n",
    "dff = assembler.transform(dff)\n",
    "\n"
   ]
  },
  {
   "cell_type": "code",
   "execution_count": 156,
   "id": "bf2b13e7-d06c-4e70-a643-fdc43e3b5970",
   "metadata": {},
   "outputs": [],
   "source": [
    "# Разделяем данные на обучающий и тестовый наборы\n",
    "train_data, test_data = dff.randomSplit([0.8, 0.2], seed=42)\n",
    "\n"
   ]
  },
  {
   "cell_type": "code",
   "execution_count": 157,
   "id": "f32f710f-d496-4289-bf06-d58ad3a63767",
   "metadata": {},
   "outputs": [],
   "source": [
    "# Создаем модель случайного леса для регрессии\n",
    "rf = RandomForestRegressor(featuresCol=\"features\", labelCol=\"totalFare\")\n",
    "\n"
   ]
  },
  {
   "cell_type": "code",
   "execution_count": 158,
   "id": "f66bdffd-4d73-4aa9-b90b-48cc3388d59f",
   "metadata": {},
   "outputs": [],
   "source": [
    "# Обучаем модель на обучающем наборе\n",
    "rf_model = rf.fit(train_data)\n",
    "\n"
   ]
  },
  {
   "cell_type": "code",
   "execution_count": 159,
   "id": "afa2e839-c30f-4c97-96c5-55c216d5bfdb",
   "metadata": {},
   "outputs": [],
   "source": [
    "# Получаем прогнозы на тестовом наборе\n",
    "predictions = rf_model.transform(test_data)\n",
    "\n"
   ]
  },
  {
   "cell_type": "code",
   "execution_count": 160,
   "id": "b7d124f8-293e-4268-bcb9-7818990b125f",
   "metadata": {},
   "outputs": [
    {
     "name": "stdout",
     "output_type": "stream",
     "text": [
      "Root Mean Squared Error (RMSE) on test data = 117.83629206128938\n"
     ]
    }
   ],
   "source": [
    "# Оцениваем качество модели\n",
    "evaluator = RegressionEvaluator(labelCol=\"totalFare\", predictionCol=\"prediction\", metricName=\"rmse\")\n",
    "rmse = evaluator.evaluate(predictions)\n",
    "print(\"Root Mean Squared Error (RMSE) on test data =\", rmse)\n",
    "\n"
   ]
  },
  {
   "cell_type": "code",
   "execution_count": 161,
   "id": "e7d30d7d-c02c-4a0a-8a19-5738f567660d",
   "metadata": {},
   "outputs": [
    {
     "name": "stdout",
     "output_type": "stream",
     "text": [
      "Feature Importances: (4,[0,1,2,3],[0.2310696413820006,0.04968418799869869,0.6144445465466536,0.10480162407264712])\n"
     ]
    }
   ],
   "source": [
    "# Отображаем важность признаков\n",
    "print(\"Feature Importances:\", rf_model.featureImportances)"
   ]
  },
  {
   "cell_type": "code",
   "execution_count": null,
   "id": "0621746e-6d4e-4c84-8a80-869de99dcc27",
   "metadata": {},
   "outputs": [],
   "source": []
  },
  {
   "cell_type": "code",
   "execution_count": 165,
   "id": "2dea5046-eb56-4d8a-a81d-c74f1cda385e",
   "metadata": {},
   "outputs": [],
   "source": [
    "# Определяем сетку гиперпараметров для перебора\n",
    "param_grid = ParamGridBuilder() \\\n",
    "    .addGrid(rf.numTrees, [10, 50, 100]) \\\n",
    "    .addGrid(rf.maxDepth, [5, 10, 20]) \\\n",
    "    .build()\n",
    "\n"
   ]
  },
  {
   "cell_type": "code",
   "execution_count": 166,
   "id": "15be474c-d182-43d8-9ca5-b40f7cd66e76",
   "metadata": {},
   "outputs": [],
   "source": [
    "# Создаем оценщик для оценки качества модели (Root Mean Squared Error)\n",
    "evaluator = RegressionEvaluator(labelCol=\"totalFare\", predictionCol=\"prediction\", metricName=\"rmse\")\n",
    "\n"
   ]
  },
  {
   "cell_type": "code",
   "execution_count": 167,
   "id": "d857cea9-e11e-42a7-b55e-33d78a565704",
   "metadata": {},
   "outputs": [],
   "source": [
    "# Создаем кросс-валидатор\n",
    "crossval = CrossValidator(estimator=rf,\n",
    "                          estimatorParamMaps=param_grid,\n",
    "                          evaluator=evaluator,\n",
    "                          numFolds=5)\n",
    "\n"
   ]
  },
  {
   "cell_type": "code",
   "execution_count": 168,
   "id": "1a314f1b-847f-413f-af48-52dc747f1302",
   "metadata": {},
   "outputs": [],
   "source": [
    "# Обучаем модель с кросс-валидацией\n",
    "cv_model = crossval.fit(train_data)\n",
    "\n"
   ]
  },
  {
   "cell_type": "code",
   "execution_count": 169,
   "id": "bb58e69f-ed2e-4431-8556-963d24e4431f",
   "metadata": {},
   "outputs": [],
   "source": [
    "# Получаем лучшую модель\n",
    "best_model = cv_model.bestModel\n",
    "\n"
   ]
  },
  {
   "cell_type": "code",
   "execution_count": 170,
   "id": "3b9adba0-d72f-4597-9db4-2f0fc04eeaa5",
   "metadata": {},
   "outputs": [],
   "source": [
    "# Получаем прогнозы на тестовом наборе\n",
    "predictions = best_model.transform(test_data)\n",
    "\n"
   ]
  },
  {
   "cell_type": "code",
   "execution_count": 171,
   "id": "578c6942-182d-4bf8-a62d-0105c5b00e2b",
   "metadata": {},
   "outputs": [
    {
     "name": "stdout",
     "output_type": "stream",
     "text": [
      "Root Mean Squared Error (RMSE) on test data = 124.53822379494504\n"
     ]
    }
   ],
   "source": [
    "# Оцениваем качество лучшей модели на тестовом наборе\n",
    "rmse = evaluator.evaluate(predictions)\n",
    "print(\"Root Mean Squared Error (RMSE) on test data =\", rmse)\n",
    "\n"
   ]
  },
  {
   "cell_type": "code",
   "execution_count": 172,
   "id": "1519a378-5788-4833-ad90-ef07b7594c71",
   "metadata": {},
   "outputs": [
    {
     "name": "stdout",
     "output_type": "stream",
     "text": [
      "Feature Importances: (4,[0,1,2,3],[0.22434428111200194,0.04240846503510581,0.6114517634010642,0.12179549045182814])\n"
     ]
    }
   ],
   "source": [
    "# Отображаем важность признаков\n",
    "print(\"Feature Importances:\", best_model.featureImportances)"
   ]
  },
  {
   "cell_type": "markdown",
   "id": "cd14ef96-9508-47d0-ab38-a32438c8e63e",
   "metadata": {},
   "source": [
    "## Классификация на основе Logistic regression"
   ]
  },
  {
   "cell_type": "code",
   "execution_count": 173,
   "id": "8cd5c999-f0a8-40ce-95f0-fc9f1e6d28f9",
   "metadata": {},
   "outputs": [],
   "source": [
    "dfc = dataml"
   ]
  },
  {
   "cell_type": "code",
   "execution_count": 174,
   "id": "723f91dd-fe1a-4d91-8046-f4a2437a9a3e",
   "metadata": {},
   "outputs": [],
   "source": [
    "# Объединяем все признаки в один столбец 'features'\n",
    "feature_columns = dfc.columns\n",
    "feature_columns.remove(\"isBasicEconomyInt\")  # Удаляем целевую переменную из списка признаков\n",
    "assembler = VectorAssembler(inputCols=feature_columns, outputCol=\"features\")\n",
    "dfc = assembler.transform(dfc)\n",
    "\n"
   ]
  },
  {
   "cell_type": "code",
   "execution_count": 181,
   "id": "2dfb0de6-f637-4b51-a0c5-b826ef761b61",
   "metadata": {},
   "outputs": [],
   "source": [
    "# Разделяем данные на обучающий и тестовый наборы\n",
    "train_data, test_data = dfc.randomSplit([0.8, 0.2], seed=42)\n",
    "\n"
   ]
  },
  {
   "cell_type": "code",
   "execution_count": 182,
   "id": "c7ac3bee-06ae-4f8c-a94a-6b16d5096f8b",
   "metadata": {},
   "outputs": [],
   "source": [
    "# Создаем модель логистической регрессии для классификации\n",
    "lr = LogisticRegression(featuresCol=\"features\", labelCol=\"isBasicEconomyInt\")\n",
    "\n"
   ]
  },
  {
   "cell_type": "code",
   "execution_count": 183,
   "id": "6ffa690f-e417-40d1-94dc-e8bf11eaeda1",
   "metadata": {},
   "outputs": [],
   "source": [
    "# Определяем сетку гиперпараметров для перебора\n",
    "param_grid = ParamGridBuilder() \\\n",
    "    .addGrid(lr.regParam, [0.01, 0.1, 1.0]) \\\n",
    "    .addGrid(lr.elasticNetParam, [0.0, 0.5, 1.0]) \\\n",
    "    .build()\n",
    "\n"
   ]
  },
  {
   "cell_type": "code",
   "execution_count": 184,
   "id": "62e54513-2aef-4051-8991-04509f941bf8",
   "metadata": {},
   "outputs": [],
   "source": [
    "# Создаем оценщик для оценки качества модели (бинарная классификация)\n",
    "evaluator = BinaryClassificationEvaluator(labelCol=\"isBasicEconomyInt\", metricName=\"areaUnderROC\")\n",
    "\n"
   ]
  },
  {
   "cell_type": "code",
   "execution_count": 185,
   "id": "504707ad-d9ad-44da-ae7a-1e4c914a500a",
   "metadata": {},
   "outputs": [],
   "source": [
    "# Создаем кросс-валидатор\n",
    "crossval = CrossValidator(estimator=lr,\n",
    "                          estimatorParamMaps=param_grid,\n",
    "                          evaluator=evaluator,\n",
    "                          numFolds=5)\n",
    "\n"
   ]
  },
  {
   "cell_type": "code",
   "execution_count": 186,
   "id": "e0ce2fec-b04f-40bd-b726-b16ac51a010c",
   "metadata": {},
   "outputs": [],
   "source": [
    "# Обучаем модель с кросс-валидацией\n",
    "cv_model = crossval.fit(train_data)\n",
    "\n"
   ]
  },
  {
   "cell_type": "code",
   "execution_count": 187,
   "id": "48394b2c-95f0-4c9a-af40-966731548088",
   "metadata": {},
   "outputs": [],
   "source": [
    "# Получаем лучшую модель\n",
    "best_model = cv_model.bestModel\n",
    "\n"
   ]
  },
  {
   "cell_type": "code",
   "execution_count": 188,
   "id": "16bb62ff-0e5e-4daf-a226-31b6c82ad2d8",
   "metadata": {},
   "outputs": [],
   "source": [
    "# Получаем прогнозы на тестовом наборе\n",
    "predictions = best_model.transform(test_data)\n",
    "\n"
   ]
  },
  {
   "cell_type": "code",
   "execution_count": 189,
   "id": "498d606d-e568-4fce-a5d4-99fd8d4eaf0f",
   "metadata": {},
   "outputs": [
    {
     "name": "stdout",
     "output_type": "stream",
     "text": [
      "Area Under ROC (AUC) on test data = 0.9743589743589743\n"
     ]
    }
   ],
   "source": [
    "# Оцениваем качество лучшей модели на тестовом наборе\n",
    "auc = evaluator.evaluate(predictions)\n",
    "print(\"Area Under ROC (AUC) on test data =\", auc)"
   ]
  },
  {
   "cell_type": "code",
   "execution_count": 193,
   "id": "0ad2c98c-5c1b-48cf-a6f6-c657f330a3b9",
   "metadata": {},
   "outputs": [
    {
     "name": "stdout",
     "output_type": "stream",
     "text": [
      "+-----------------------------------+-----------------+----------+\n",
      "|features                           |isBasicEconomyInt|prediction|\n",
      "+-----------------------------------+-----------------+----------+\n",
      "|[0.0,431.9800109863281,1818.0,7.0] |0                |0.0       |\n",
      "|[0.0,249.2100067138672,1582.0,7.0] |0                |0.0       |\n",
      "|[1.0,320.6000061035156,862.0,7.0]  |0                |0.0       |\n",
      "|[1.0,478.6000061035156,447.0,8.0]  |0                |0.0       |\n",
      "|[0.0,440.19000244140625,1242.0,7.0]|0                |0.0       |\n",
      "|[0.0,399.1000061035156,776.0,5.0]  |0                |0.0       |\n",
      "|[0.0,264.010009765625,947.0,4.0]   |0                |0.0       |\n",
      "|[0.0,606.1099853515625,2561.0,9.0] |0                |0.0       |\n",
      "|[0.0,171.60000610351562,1213.0,7.0]|0                |0.0       |\n",
      "|[0.0,438.6000061035156,2557.0,9.0] |0                |0.0       |\n",
      "|[1.0,358.6000061035156,2566.0,7.0] |0                |0.0       |\n",
      "|[0.0,177.61000061035156,2611.0,9.0]|1                |1.0       |\n",
      "|[0.0,238.60000610351562,2725.0,9.0]|1                |0.0       |\n",
      "|[0.0,497.1000061035156,3254.0,7.0] |0                |0.0       |\n",
      "|[0.0,475.6000061035156,537.0,9.0]  |0                |0.0       |\n",
      "|[1.0,98.5999984741211,497.0,9.0]   |1                |0.0       |\n",
      "+-----------------------------------+-----------------+----------+\n",
      "\n"
     ]
    }
   ],
   "source": [
    "predictions.select(['features', 'isBasicEconomyInt', 'prediction']).show(100, truncate=False)"
   ]
  },
  {
   "cell_type": "code",
   "execution_count": 192,
   "id": "5d172a55-7051-433b-aecc-2b46bc46a731",
   "metadata": {},
   "outputs": [
    {
     "name": "stdout",
     "output_type": "stream",
     "text": [
      "+---------+------------------+\n",
      "|   metric|             value|\n",
      "+---------+------------------+\n",
      "|       TP|               1.0|\n",
      "|       FP|               0.0|\n",
      "|       TN|              13.0|\n",
      "|       FN|               2.0|\n",
      "|Precision|               1.0|\n",
      "|   Recall|0.3333333333333333|\n",
      "|       F1|               0.5|\n",
      "+---------+------------------+\n",
      "\n"
     ]
    }
   ],
   "source": [
    "# Recalculate confusion matrix\n",
    "tp2 = float(predictions.filter(\"prediction == 1.0 AND isBasicEconomyInt == 1\").count())\n",
    "fp2 = float(predictions.filter(\"prediction == 1.0 AND isBasicEconomyInt == 0\").count())\n",
    "tn2 = float(predictions.filter(\"prediction == 0.0 AND isBasicEconomyInt == 0\").count())\n",
    "fn2 = float(predictions.filter(\"prediction == 0.0 AND isBasicEconomyInt == 1\").count())\n",
    "pr2 = tp2 / (tp2 + fp2)\n",
    "re2 = tp2 / (tp2 + fn2)\n",
    "metrics2 = spark.createDataFrame([\n",
    " (\"TP\", tp2),\n",
    " (\"FP\", fp2),\n",
    " (\"TN\", tn2),\n",
    " (\"FN\", fn2),\n",
    " (\"Precision\", pr2),\n",
    " (\"Recall\", re2),\n",
    " (\"F1\", 2*pr2*re2/(re2+pr2))],[\"metric\", \"value\"])\n",
    "metrics2.show()"
   ]
  }
 ],
 "metadata": {
  "kernelspec": {
   "display_name": "Python 3 (ipykernel)",
   "language": "python",
   "name": "python3"
  },
  "language_info": {
   "codemirror_mode": {
    "name": "ipython",
    "version": 3
   },
   "file_extension": ".py",
   "mimetype": "text/x-python",
   "name": "python",
   "nbconvert_exporter": "python",
   "pygments_lexer": "ipython3",
   "version": "3.11.6"
  }
 },
 "nbformat": 4,
 "nbformat_minor": 5
}
